{
 "cells": [
  {
   "cell_type": "markdown",
   "metadata": {},
   "source": [
    "## Work\n",
    "### 請結合前面的知識與程式碼，比較不同的 regularization 的組合對訓練的結果與影響：如 dropout, regularizers, batch-normalization 等"
   ]
  },
  {
   "cell_type": "code",
   "execution_count": 1,
   "metadata": {},
   "outputs": [
    {
     "name": "stderr",
     "output_type": "stream",
     "text": [
      "Using TensorFlow backend.\n"
     ]
    }
   ],
   "source": [
    "import os\n",
    "import keras\n",
    "import itertools\n",
    "# Disable GPU\n",
    "os.environ[\"CUDA_VISIBLE_DEVICES\"] = \"0\""
   ]
  },
  {
   "cell_type": "code",
   "execution_count": 2,
   "metadata": {},
   "outputs": [],
   "source": [
    "train, test = keras.datasets.cifar10.load_data()"
   ]
  },
  {
   "cell_type": "code",
   "execution_count": 3,
   "metadata": {},
   "outputs": [],
   "source": [
    "## 資料前處理\n",
    "def preproc_x(x, flatten=True):\n",
    "    x = x / 255.\n",
    "    if flatten:\n",
    "        x = x.reshape((len(x), -1))\n",
    "    return x\n",
    "\n",
    "def preproc_y(y, num_classes=10):\n",
    "    if y.shape[-1] == 1:\n",
    "        y = keras.utils.to_categorical(y, num_classes)\n",
    "    return y    "
   ]
  },
  {
   "cell_type": "code",
   "execution_count": 4,
   "metadata": {},
   "outputs": [],
   "source": [
    "x_train, y_train = train\n",
    "x_test, y_test = test\n",
    "\n",
    "# Preproc the inputs\n",
    "x_train = preproc_x(x_train)\n",
    "x_test = preproc_x(x_test)\n",
    "\n",
    "# Preprc the outputs\n",
    "y_train = preproc_y(y_train)\n",
    "y_test = preproc_y(y_test)"
   ]
  },
  {
   "cell_type": "markdown",
   "metadata": {},
   "source": [
    "> dropout = 0.1   \n",
    "> regularizers = L1 0.01    \n",
    "> batch-normalization = 16  "
   ]
  },
  {
   "cell_type": "code",
   "execution_count": 5,
   "metadata": {},
   "outputs": [],
   "source": [
    "from keras.layers import Dropout\n",
    "from keras.regularizers import l1, l2, l1_l2\n",
    "from keras.layers import BatchNormalization, Activation"
   ]
  },
  {
   "cell_type": "code",
   "execution_count": 6,
   "metadata": {},
   "outputs": [],
   "source": [
    "def build_mlp(input_shape, output_units=10, num_neurons=[512, 256, 128], drp_ratio=0.2, l1_ratio=1e-4):\n",
    "    input_layer = keras.layers.Input(input_shape)\n",
    "    for i, n_units in enumerate(num_neurons):\n",
    "        if i == 0:\n",
    "            x = keras.layers.Dense(units=n_units, \n",
    "                                    activation=\"relu\",\n",
    "                                    name=\"hidden_layer\"+str(i+1),\n",
    "                                    kernel_regularizer=l1(l1_ratio))(input_layer)\n",
    "            x = Dropout(drp_ratio)(x)\n",
    "            x = BatchNormalization()(x)\n",
    "        else:\n",
    "            x = keras.layers.Dense(units=n_units, \n",
    "                                    activation=\"relu\",\n",
    "                                    name=\"hidden_layer\"+str(i+1),\n",
    "                                    kernel_regularizer=l1(l1_ratio))(x)\n",
    "            x = Dropout(drp_ratio)(x)\n",
    "            x = BatchNormalization()(x)\n",
    "    \n",
    "    out = keras.layers.Dense(units=output_units, activation=\"softmax\", name=\"output\")(x)\n",
    "    model = keras.models.Model(inputs=[input_layer], outputs=[out])\n",
    "    return model"
   ]
  },
  {
   "cell_type": "code",
   "execution_count": 7,
   "metadata": {},
   "outputs": [],
   "source": [
    "\"\"\"Code Here\n",
    "設定超參數\n",
    "\"\"\"\n",
    "LEARNING_RATE = 1e-3\n",
    "EPOCHS = 50\n",
    "MOMENTUM = 0.95\n",
    "Dropout_EXP = 0.1\n",
    "L1_EXP = 1e-2\n",
    "BATCH_SIZE = 16"
   ]
  },
  {
   "cell_type": "code",
   "execution_count": 8,
   "metadata": {
    "scrolled": true
   },
   "outputs": [
    {
     "name": "stdout",
     "output_type": "stream",
     "text": [
      "Model: \"model_1\"\n",
      "_________________________________________________________________\n",
      "Layer (type)                 Output Shape              Param #   \n",
      "=================================================================\n",
      "input_1 (InputLayer)         (None, 3072)              0         \n",
      "_________________________________________________________________\n",
      "hidden_layer1 (Dense)        (None, 512)               1573376   \n",
      "_________________________________________________________________\n",
      "dropout_1 (Dropout)          (None, 512)               0         \n",
      "_________________________________________________________________\n",
      "batch_normalization_1 (Batch (None, 512)               2048      \n",
      "_________________________________________________________________\n",
      "hidden_layer2 (Dense)        (None, 256)               131328    \n",
      "_________________________________________________________________\n",
      "dropout_2 (Dropout)          (None, 256)               0         \n",
      "_________________________________________________________________\n",
      "batch_normalization_2 (Batch (None, 256)               1024      \n",
      "_________________________________________________________________\n",
      "hidden_layer3 (Dense)        (None, 128)               32896     \n",
      "_________________________________________________________________\n",
      "dropout_3 (Dropout)          (None, 128)               0         \n",
      "_________________________________________________________________\n",
      "batch_normalization_3 (Batch (None, 128)               512       \n",
      "_________________________________________________________________\n",
      "output (Dense)               (None, 10)                1290      \n",
      "=================================================================\n",
      "Total params: 1,742,474\n",
      "Trainable params: 1,740,682\n",
      "Non-trainable params: 1,792\n",
      "_________________________________________________________________\n"
     ]
    }
   ],
   "source": [
    "results = {}\n",
    "\"\"\"Code Here\n",
    "撰寫你的訓練流程並將結果用 dictionary 紀錄\n",
    "\"\"\"\n",
    "keras.backend.clear_session() # 把舊的 Graph 清掉\n",
    "model = build_mlp(input_shape=x_train.shape[1:], l1_ratio=L1_EXP, drp_ratio=Dropout_EXP)\n",
    "model.summary()\n",
    "model.compile(loss='categorical_crossentropy', optimizer= 'adam', metrics=['accuracy'])"
   ]
  },
  {
   "cell_type": "code",
   "execution_count": 9,
   "metadata": {},
   "outputs": [],
   "source": [
    "import matplotlib.pyplot as plt\n",
    "%matplotlib inline\n",
    "\"\"\"Code Here\n",
    "將結果繪出\n",
    "\"\"\"\n",
    "\n",
    "def run(batch_size):\n",
    "    model.fit(x_train, y_train, \n",
    "          epochs=EPOCHS, \n",
    "          batch_size=batch_size, \n",
    "          validation_data=(x_test, y_test), \n",
    "          shuffle=True)\n",
    "\n",
    "    # Collect results\n",
    "    train_loss = model.history.history[\"loss\"]\n",
    "    valid_loss = model.history.history[\"val_loss\"]\n",
    "    train_acc = model.history.history[\"accuracy\"]\n",
    "    valid_acc = model.history.history[\"val_accuracy\"]\n",
    "\n",
    "    print('Batch size = %s' % batch_size)\n",
    "\n",
    "    plt.plot(range(len(train_loss)), train_loss, label=\"train loss\")\n",
    "    plt.plot(range(len(valid_loss)), valid_loss, label=\"valid loss\")\n",
    "    plt.legend()\n",
    "    plt.title(\"Loss\")\n",
    "    plt.show()\n",
    "\n",
    "    plt.plot(range(len(train_acc)), train_acc, label=\"train accuracy\")\n",
    "    plt.plot(range(len(valid_acc)), valid_acc, label=\"valid accuracy\")\n",
    "    plt.legend()\n",
    "    plt.title(\"Accuracy\")\n",
    "    plt.show()"
   ]
  },
  {
   "cell_type": "code",
   "execution_count": 10,
   "metadata": {
    "scrolled": true
   },
   "outputs": [
    {
     "name": "stdout",
     "output_type": "stream",
     "text": [
      "Train on 50000 samples, validate on 10000 samples\n",
      "Epoch 1/50\n",
      "50000/50000 [==============================] - 26s 528us/step - loss: 15.9086 - accuracy: 0.1828 - val_loss: 8.1332 - val_accuracy: 0.1382\n",
      "Epoch 2/50\n",
      "50000/50000 [==============================] - 25s 502us/step - loss: 6.6954 - accuracy: 0.1883 - val_loss: 6.4063 - val_accuracy: 0.1714\n",
      "Epoch 3/50\n",
      "50000/50000 [==============================] - 25s 501us/step - loss: 6.3526 - accuracy: 0.1862 - val_loss: 6.2045 - val_accuracy: 0.1540\n",
      "Epoch 4/50\n",
      "50000/50000 [==============================] - 25s 505us/step - loss: 5.9893 - accuracy: 0.1872 - val_loss: 6.5005 - val_accuracy: 0.1061\n",
      "Epoch 5/50\n",
      "50000/50000 [==============================] - 26s 517us/step - loss: 5.8070 - accuracy: 0.1862 - val_loss: 5.7416 - val_accuracy: 0.1675\n",
      "Epoch 6/50\n",
      "50000/50000 [==============================] - 27s 535us/step - loss: 5.5665 - accuracy: 0.1871 - val_loss: 5.3962 - val_accuracy: 0.1777\n",
      "Epoch 7/50\n",
      "50000/50000 [==============================] - 25s 505us/step - loss: 5.3219 - accuracy: 0.1874 - val_loss: 5.3215 - val_accuracy: 0.1729\n",
      "Epoch 8/50\n",
      "50000/50000 [==============================] - 26s 520us/step - loss: 5.0534 - accuracy: 0.1827 - val_loss: 5.8909 - val_accuracy: 0.1251\n",
      "Epoch 9/50\n",
      "50000/50000 [==============================] - 25s 506us/step - loss: 4.9191 - accuracy: 0.1865 - val_loss: 4.7383 - val_accuracy: 0.1351\n",
      "Epoch 10/50\n",
      "50000/50000 [==============================] - 25s 507us/step - loss: 4.8247 - accuracy: 0.1747 - val_loss: 4.7596 - val_accuracy: 0.1445\n",
      "Epoch 11/50\n",
      "50000/50000 [==============================] - 25s 508us/step - loss: 4.6433 - accuracy: 0.1688 - val_loss: 4.8228 - val_accuracy: 0.1000\n",
      "Epoch 12/50\n",
      "50000/50000 [==============================] - 25s 506us/step - loss: 4.7044 - accuracy: 0.1558 - val_loss: 4.5861 - val_accuracy: 0.1098\n",
      "Epoch 13/50\n",
      "50000/50000 [==============================] - 25s 507us/step - loss: 4.6429 - accuracy: 0.1600 - val_loss: 5.3297 - val_accuracy: 0.1157\n",
      "Epoch 14/50\n",
      "50000/50000 [==============================] - 25s 506us/step - loss: 4.7741 - accuracy: 0.1537 - val_loss: 4.9387 - val_accuracy: 0.1435\n",
      "Epoch 15/50\n",
      "50000/50000 [==============================] - 25s 505us/step - loss: 4.6947 - accuracy: 0.1541 - val_loss: 4.5605 - val_accuracy: 0.1364\n",
      "Epoch 16/50\n",
      "50000/50000 [==============================] - 25s 508us/step - loss: 4.6050 - accuracy: 0.1484 - val_loss: 4.6425 - val_accuracy: 0.1001\n",
      "Epoch 17/50\n",
      "50000/50000 [==============================] - 25s 506us/step - loss: 4.5120 - accuracy: 0.1499 - val_loss: 4.5587 - val_accuracy: 0.1367\n",
      "Epoch 18/50\n",
      "50000/50000 [==============================] - 25s 507us/step - loss: 4.5375 - accuracy: 0.1528 - val_loss: 4.2866 - val_accuracy: 0.1867\n",
      "Epoch 19/50\n",
      "50000/50000 [==============================] - 25s 508us/step - loss: 4.4856 - accuracy: 0.1380 - val_loss: 4.6613 - val_accuracy: 0.1719\n",
      "Epoch 20/50\n",
      "50000/50000 [==============================] - 26s 510us/step - loss: 4.5431 - accuracy: 0.1437 - val_loss: 4.3145 - val_accuracy: 0.1665\n",
      "Epoch 21/50\n",
      "50000/50000 [==============================] - 26s 510us/step - loss: 4.5337 - accuracy: 0.1347 - val_loss: 4.5973 - val_accuracy: 0.1063\n",
      "Epoch 22/50\n",
      "50000/50000 [==============================] - 25s 508us/step - loss: 4.4356 - accuracy: 0.1407 - val_loss: 4.4957 - val_accuracy: 0.1097\n",
      "Epoch 23/50\n",
      "50000/50000 [==============================] - 26s 511us/step - loss: 4.4360 - accuracy: 0.1363 - val_loss: 4.3184 - val_accuracy: 0.1663\n",
      "Epoch 24/50\n",
      "50000/50000 [==============================] - 26s 510us/step - loss: 4.4675 - accuracy: 0.1477 - val_loss: 4.5840 - val_accuracy: 0.1000\n",
      "Epoch 25/50\n",
      "50000/50000 [==============================] - 25s 509us/step - loss: 4.3392 - accuracy: 0.1293 - val_loss: 4.3589 - val_accuracy: 0.1000\n",
      "Epoch 26/50\n",
      "50000/50000 [==============================] - 25s 508us/step - loss: 4.3221 - accuracy: 0.1153 - val_loss: 4.2982 - val_accuracy: 0.1000\n",
      "Epoch 27/50\n",
      "50000/50000 [==============================] - 26s 511us/step - loss: 4.3029 - accuracy: 0.1000 - val_loss: 4.3038 - val_accuracy: 0.1000\n",
      "Epoch 28/50\n",
      "50000/50000 [==============================] - 26s 511us/step - loss: 4.3041 - accuracy: 0.0994 - val_loss: 4.3042 - val_accuracy: 0.1000\n",
      "Epoch 29/50\n",
      "50000/50000 [==============================] - 26s 512us/step - loss: 4.3042 - accuracy: 0.0977 - val_loss: 4.3002 - val_accuracy: 0.1000\n",
      "Epoch 30/50\n",
      "50000/50000 [==============================] - 26s 511us/step - loss: 4.3040 - accuracy: 0.0992 - val_loss: 4.3039 - val_accuracy: 0.1000\n",
      "Epoch 31/50\n",
      "50000/50000 [==============================] - 26s 510us/step - loss: 4.3038 - accuracy: 0.0986 - val_loss: 4.3038 - val_accuracy: 0.1000\n",
      "Epoch 32/50\n",
      "50000/50000 [==============================] - 26s 511us/step - loss: 4.3037 - accuracy: 0.0987 - val_loss: 4.3022 - val_accuracy: 0.1000\n",
      "Epoch 33/50\n",
      "50000/50000 [==============================] - 26s 512us/step - loss: 4.3035 - accuracy: 0.0988 - val_loss: 4.3025 - val_accuracy: 0.1000\n",
      "Epoch 34/50\n",
      "50000/50000 [==============================] - 26s 513us/step - loss: 4.3034 - accuracy: 0.0988 - val_loss: 4.3014 - val_accuracy: 0.1000\n",
      "Epoch 35/50\n",
      "50000/50000 [==============================] - 26s 512us/step - loss: 4.3032 - accuracy: 0.0998 - val_loss: 4.3047 - val_accuracy: 0.1000\n",
      "Epoch 36/50\n",
      "50000/50000 [==============================] - 25s 504us/step - loss: 4.3032 - accuracy: 0.1001 - val_loss: 4.3019 - val_accuracy: 0.1000\n",
      "Epoch 37/50\n",
      "50000/50000 [==============================] - 25s 505us/step - loss: 4.3030 - accuracy: 0.1011 - val_loss: 4.3012 - val_accuracy: 0.1000\n",
      "Epoch 38/50\n",
      "50000/50000 [==============================] - 25s 504us/step - loss: 4.3029 - accuracy: 0.0974 - val_loss: 4.3023 - val_accuracy: 0.1000\n",
      "Epoch 39/50\n",
      "50000/50000 [==============================] - 25s 503us/step - loss: 4.3028 - accuracy: 0.0988 - val_loss: 4.3029 - val_accuracy: 0.1000\n",
      "Epoch 40/50\n",
      "50000/50000 [==============================] - 25s 505us/step - loss: 4.3026 - accuracy: 0.1019 - val_loss: 4.3049 - val_accuracy: 0.1000\n",
      "Epoch 41/50\n",
      "50000/50000 [==============================] - 25s 505us/step - loss: 4.3025 - accuracy: 0.1021 - val_loss: 4.3012 - val_accuracy: 0.1000\n",
      "Epoch 42/50\n",
      "50000/50000 [==============================] - 25s 507us/step - loss: 4.3024 - accuracy: 0.1004 - val_loss: 4.3004 - val_accuracy: 0.1000\n",
      "Epoch 43/50\n",
      "50000/50000 [==============================] - 25s 503us/step - loss: 4.3024 - accuracy: 0.1003 - val_loss: 4.3053 - val_accuracy: 0.1000\n",
      "Epoch 44/50\n",
      "50000/50000 [==============================] - 25s 503us/step - loss: 4.3022 - accuracy: 0.0985 - val_loss: 4.3002 - val_accuracy: 0.1000\n",
      "Epoch 45/50\n",
      "50000/50000 [==============================] - 25s 504us/step - loss: 4.3020 - accuracy: 0.0996 - val_loss: 4.3036 - val_accuracy: 0.1000\n",
      "Epoch 46/50\n",
      "50000/50000 [==============================] - 25s 507us/step - loss: 4.3020 - accuracy: 0.0966 - val_loss: 4.3009 - val_accuracy: 0.1000\n",
      "Epoch 47/50\n",
      "50000/50000 [==============================] - 26s 518us/step - loss: 4.3018 - accuracy: 0.1006 - val_loss: 4.3011 - val_accuracy: 0.1000\n",
      "Epoch 48/50\n",
      "50000/50000 [==============================] - 25s 505us/step - loss: 4.3017 - accuracy: 0.0998 - val_loss: 4.3023 - val_accuracy: 0.1000\n",
      "Epoch 49/50\n",
      "50000/50000 [==============================] - 25s 506us/step - loss: 4.3016 - accuracy: 0.1004 - val_loss: 4.2972 - val_accuracy: 0.1000\n",
      "Epoch 50/50\n",
      "50000/50000 [==============================] - 26s 514us/step - loss: 4.3014 - accuracy: 0.0991 - val_loss: 4.3014 - val_accuracy: 0.1000\n",
      "Batch size = 16\n"
     ]
    },
    {
     "data": {
      "image/png": "[encoded data removed]",
      "text/plain": [
       "<Figure size 432x288 with 1 Axes>"
      ]
     },
     "metadata": {
      "needs_background": "light"
     },
     "output_type": "display_data"
    },
    {
     "data": {
      "image/png": "[encoded data removed]",
      "text/plain": [
       "<Figure size 432x288 with 1 Axes>"
      ]
     },
     "metadata": {
      "needs_background": "light"
     },
     "output_type": "display_data"
    }
   ],
   "source": [
    "run(BATCH_SIZE)"
   ]
  },
  {
   "cell_type": "code",
   "execution_count": null,
   "metadata": {},
   "outputs": [],
   "source": []
  }
 ],
 "metadata": {
  "kernelspec": {
   "display_name": "Python 3",
   "language": "python",
   "name": "python3"
  },
  "language_info": {
   "codemirror_mode": {
    "name": "ipython",
    "version": 3
   },
   "file_extension": ".py",
   "mimetype": "text/x-python",
   "name": "python",
   "nbconvert_exporter": "python",
   "pygments_lexer": "ipython3",
   "version": "3.7.3"
  }
 },
 "nbformat": 4,
 "nbformat_minor": 2
}
