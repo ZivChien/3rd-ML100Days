{
 "cells": [
  {
   "cell_type": "markdown",
   "metadata": {},
   "source": [
    "## Work\n",
    "1. 請嘗試將 preproc_x 替換成以每筆資料的 min/max 進行標準化至 -1 ~ 1 間，再進行訓練\n",
    "2. 請嘗試將 mlp 疊更深 (e.g 5~10 層)，進行訓練後觀察 learning curve 的走勢\n",
    "3. (optional) 請改用 GPU 進行訓練 (如果你有 GPU 的話)，比較使用 CPU 與 GPU 的訓練速度"
   ]
  },
  {
   "cell_type": "code",
   "execution_count": 1,
   "metadata": {},
   "outputs": [
    {
     "name": "stdout",
     "output_type": "stream",
     "text": [
      "Sun Dec 15 00:21:05 2019       \r\n",
      "+-----------------------------------------------------------------------------+\r\n",
      "| NVIDIA-SMI 430.26       Driver Version: 430.26       CUDA Version: 10.2     |\r\n",
      "|-------------------------------+----------------------+----------------------+\r\n",
      "| GPU  Name        Persistence-M| Bus-Id        Disp.A | Volatile Uncorr. ECC |\r\n",
      "| Fan  Temp  Perf  Pwr:Usage/Cap|         Memory-Usage | GPU-Util  Compute M. |\r\n",
      "|===============================+======================+======================|\r\n",
      "|   0  GeForce GTX 106...  Off  | 00000000:01:00.0  On |                  N/A |\r\n",
      "|  0%   46C    P0    32W / 120W |    765MiB /  3018MiB |      1%      Default |\r\n",
      "+-------------------------------+----------------------+----------------------+\r\n",
      "                                                                               \r\n",
      "+-----------------------------------------------------------------------------+\r\n",
      "| Processes:                                                       GPU Memory |\r\n",
      "|  GPU       PID   Type   Process name                             Usage      |\r\n",
      "|=============================================================================|\r\n",
      "|    0       973      G   /usr/lib/xorg/Xorg                           315MiB |\r\n",
      "|    0      1152      G   /usr/bin/gnome-shell                         147MiB |\r\n",
      "|    0      1743      G   ...quest-channel-token=6831830077932068831   300MiB |\r\n",
      "+-----------------------------------------------------------------------------+\r\n"
     ]
    }
   ],
   "source": [
    "## \n",
    "\"\"\"\n",
    "Your code here (optional)\n",
    "確認硬體資源\n",
    "\"\"\"\n",
    "!nvidia-smi"
   ]
  },
  {
   "cell_type": "code",
   "execution_count": 2,
   "metadata": {},
   "outputs": [
    {
     "name": "stderr",
     "output_type": "stream",
     "text": [
      "Using TensorFlow backend.\n"
     ]
    }
   ],
   "source": [
    "import os\n",
    "import keras\n",
    "\n",
    "# 請嘗試設定 GPU：os.environ\n",
    "os.environ['CUDA_VISIBLE_DEVICES'] = \"0\""
   ]
  },
  {
   "cell_type": "code",
   "execution_count": 3,
   "metadata": {},
   "outputs": [],
   "source": [
    "train, test = keras.datasets.cifar10.load_data()"
   ]
  },
  {
   "cell_type": "code",
   "execution_count": 4,
   "metadata": {},
   "outputs": [],
   "source": [
    "## 資料前處理\n",
    "\"\"\"\n",
    "Your code here\n",
    "\"\"\"\n",
    "def preproc_x(x, flatten=True):\n",
    "    x = x / 255.\n",
    "    if flatten:\n",
    "        x = x.reshape((len(x), -1))\n",
    "    return x\n",
    "\n",
    "def preproc_y(y, num_classes=10):\n",
    "    if y.shape[-1] == 1:\n",
    "        y = keras.utils.to_categorical(y, num_classes)\n",
    "    return y    "
   ]
  },
  {
   "cell_type": "code",
   "execution_count": 5,
   "metadata": {},
   "outputs": [],
   "source": [
    "x_train, y_train = train\n",
    "x_test, y_test = test\n",
    "\n",
    "# Preproc the inputs\n",
    "x_train = preproc_x(x_train)\n",
    "x_test = preproc_x(x_test)\n",
    "\n",
    "# Preprc the outputs\n",
    "y_train = preproc_y(y_train)\n",
    "y_test = preproc_y(y_test)"
   ]
  },
  {
   "cell_type": "code",
   "execution_count": 6,
   "metadata": {},
   "outputs": [],
   "source": [
    "\"\"\"Code Here\n",
    "建立你的神經網路\n",
    "\"\"\"\n",
    "def build_mlp(input_shape, output_units=10, num_neurons=[512, 256, 128]):\n",
    "    input_layer = keras.layers.Input(input_shape)\n",
    "    \n",
    "    for i, n_units in enumerate(num_neurons):\n",
    "        if i == 0:\n",
    "            x = keras.layers.Dense(units=n_units, activation=\"relu\", name=\"hidden_layer\"+str(i+1))(input_layer)\n",
    "        else:\n",
    "            x = keras.layers.Dense(units=n_units, activation=\"relu\", name=\"hidden_layer\"+str(i+1))(x)\n",
    "    \n",
    "    out = keras.layers.Dense(units=output_units, activation=\"softmax\", name=\"output\")(x)\n",
    "    \n",
    "    model = keras.models.Model(inputs=[input_layer], outputs=[out])\n",
    "    return model"
   ]
  },
  {
   "cell_type": "code",
   "execution_count": 7,
   "metadata": {},
   "outputs": [
    {
     "name": "stdout",
     "output_type": "stream",
     "text": [
      "Model: \"model_1\"\n",
      "_________________________________________________________________\n",
      "Layer (type)                 Output Shape              Param #   \n",
      "=================================================================\n",
      "input_1 (InputLayer)         (None, 3072)              0         \n",
      "_________________________________________________________________\n",
      "hidden_layer1 (Dense)        (None, 512)               1573376   \n",
      "_________________________________________________________________\n",
      "hidden_layer2 (Dense)        (None, 256)               131328    \n",
      "_________________________________________________________________\n",
      "hidden_layer3 (Dense)        (None, 128)               32896     \n",
      "_________________________________________________________________\n",
      "output (Dense)               (None, 10)                1290      \n",
      "=================================================================\n",
      "Total params: 1,738,890\n",
      "Trainable params: 1,738,890\n",
      "Non-trainable params: 0\n",
      "_________________________________________________________________\n"
     ]
    }
   ],
   "source": [
    "model = build_mlp(input_shape=x_train.shape[1:])\n",
    "model.summary()"
   ]
  },
  {
   "cell_type": "code",
   "execution_count": 8,
   "metadata": {},
   "outputs": [],
   "source": [
    "## 超參數設定\n",
    "LEARNING_RATE = 0.001\n",
    "EPOCHS = 100\n",
    "BATCH_SIZE = 256"
   ]
  },
  {
   "cell_type": "code",
   "execution_count": 9,
   "metadata": {},
   "outputs": [],
   "source": [
    "optimizer = keras.optimizers.Adam(lr=LEARNING_RATE)\n",
    "model.compile(loss=\"categorical_crossentropy\", metrics=[\"accuracy\"], optimizer=optimizer)"
   ]
  },
  {
   "cell_type": "code",
   "execution_count": 10,
   "metadata": {
    "scrolled": false
   },
   "outputs": [
    {
     "name": "stdout",
     "output_type": "stream",
     "text": [
      "Train on 50000 samples, validate on 10000 samples\n",
      "Epoch 1/100\n",
      "50000/50000 [==============================] - 3s 54us/step - loss: 1.9300 - accuracy: 0.3048 - val_loss: 1.7573 - val_accuracy: 0.3739\n",
      "Epoch 2/100\n",
      "50000/50000 [==============================] - 2s 32us/step - loss: 1.7043 - accuracy: 0.3893 - val_loss: 1.6822 - val_accuracy: 0.3991\n",
      "Epoch 3/100\n",
      "50000/50000 [==============================] - 2s 32us/step - loss: 1.6104 - accuracy: 0.4272 - val_loss: 1.5769 - val_accuracy: 0.4359\n",
      "Epoch 4/100\n",
      "50000/50000 [==============================] - 2s 32us/step - loss: 1.5484 - accuracy: 0.4488 - val_loss: 1.5603 - val_accuracy: 0.4430\n",
      "Epoch 5/100\n",
      "50000/50000 [==============================] - 2s 32us/step - loss: 1.5071 - accuracy: 0.4618 - val_loss: 1.5187 - val_accuracy: 0.4568\n",
      "Epoch 6/100\n",
      "50000/50000 [==============================] - 2s 32us/step - loss: 1.4749 - accuracy: 0.4760 - val_loss: 1.5051 - val_accuracy: 0.4620\n",
      "Epoch 7/100\n",
      "50000/50000 [==============================] - 2s 33us/step - loss: 1.4315 - accuracy: 0.4872 - val_loss: 1.4743 - val_accuracy: 0.4776\n",
      "Epoch 8/100\n",
      "50000/50000 [==============================] - 2s 31us/step - loss: 1.4031 - accuracy: 0.4999 - val_loss: 1.4619 - val_accuracy: 0.4811\n",
      "Epoch 9/100\n",
      "50000/50000 [==============================] - 2s 32us/step - loss: 1.3729 - accuracy: 0.5113 - val_loss: 1.4419 - val_accuracy: 0.4838\n",
      "Epoch 10/100\n",
      "50000/50000 [==============================] - 2s 32us/step - loss: 1.3552 - accuracy: 0.5180 - val_loss: 1.5008 - val_accuracy: 0.4636\n",
      "Epoch 11/100\n",
      "50000/50000 [==============================] - 2s 33us/step - loss: 1.3284 - accuracy: 0.5265 - val_loss: 1.4271 - val_accuracy: 0.4920\n",
      "Epoch 12/100\n",
      "50000/50000 [==============================] - 2s 34us/step - loss: 1.3049 - accuracy: 0.5345 - val_loss: 1.4167 - val_accuracy: 0.5009\n",
      "Epoch 13/100\n",
      "50000/50000 [==============================] - 2s 33us/step - loss: 1.2762 - accuracy: 0.5479 - val_loss: 1.3927 - val_accuracy: 0.5112\n",
      "Epoch 14/100\n",
      "50000/50000 [==============================] - 2s 32us/step - loss: 1.2563 - accuracy: 0.5533 - val_loss: 1.3959 - val_accuracy: 0.5100\n",
      "Epoch 15/100\n",
      "50000/50000 [==============================] - 2s 32us/step - loss: 1.2377 - accuracy: 0.5592 - val_loss: 1.4010 - val_accuracy: 0.5051\n",
      "Epoch 16/100\n",
      "50000/50000 [==============================] - 2s 32us/step - loss: 1.2141 - accuracy: 0.5696 - val_loss: 1.3658 - val_accuracy: 0.5219\n",
      "Epoch 17/100\n",
      "50000/50000 [==============================] - 2s 33us/step - loss: 1.1892 - accuracy: 0.5764 - val_loss: 1.3839 - val_accuracy: 0.5146\n",
      "Epoch 18/100\n",
      "50000/50000 [==============================] - 2s 33us/step - loss: 1.1667 - accuracy: 0.5868 - val_loss: 1.3867 - val_accuracy: 0.5195\n",
      "Epoch 19/100\n",
      "50000/50000 [==============================] - 2s 32us/step - loss: 1.1448 - accuracy: 0.5922 - val_loss: 1.3933 - val_accuracy: 0.5034\n",
      "Epoch 20/100\n",
      "50000/50000 [==============================] - 2s 32us/step - loss: 1.1357 - accuracy: 0.5943 - val_loss: 1.3782 - val_accuracy: 0.5142\n",
      "Epoch 21/100\n",
      "50000/50000 [==============================] - 2s 32us/step - loss: 1.1124 - accuracy: 0.6060 - val_loss: 1.3667 - val_accuracy: 0.5192\n",
      "Epoch 22/100\n",
      "50000/50000 [==============================] - 2s 33us/step - loss: 1.0932 - accuracy: 0.6114 - val_loss: 1.3735 - val_accuracy: 0.5209\n",
      "Epoch 23/100\n",
      "50000/50000 [==============================] - 2s 32us/step - loss: 1.0757 - accuracy: 0.6178 - val_loss: 1.3642 - val_accuracy: 0.5308\n",
      "Epoch 24/100\n",
      "50000/50000 [==============================] - 2s 32us/step - loss: 1.0564 - accuracy: 0.6246 - val_loss: 1.3642 - val_accuracy: 0.5251\n",
      "Epoch 25/100\n",
      "50000/50000 [==============================] - 2s 32us/step - loss: 1.0324 - accuracy: 0.6322 - val_loss: 1.4159 - val_accuracy: 0.5234\n",
      "Epoch 26/100\n",
      "50000/50000 [==============================] - 2s 33us/step - loss: 1.0135 - accuracy: 0.6381 - val_loss: 1.4260 - val_accuracy: 0.5180\n",
      "Epoch 27/100\n",
      "50000/50000 [==============================] - 2s 32us/step - loss: 0.9929 - accuracy: 0.6467 - val_loss: 1.3882 - val_accuracy: 0.5333\n",
      "Epoch 28/100\n",
      "50000/50000 [==============================] - 2s 33us/step - loss: 0.9799 - accuracy: 0.6531 - val_loss: 1.4306 - val_accuracy: 0.5246\n",
      "Epoch 29/100\n",
      "50000/50000 [==============================] - 2s 32us/step - loss: 0.9719 - accuracy: 0.6560 - val_loss: 1.4217 - val_accuracy: 0.5233\n",
      "Epoch 30/100\n",
      "50000/50000 [==============================] - 2s 34us/step - loss: 0.9463 - accuracy: 0.6636 - val_loss: 1.4484 - val_accuracy: 0.5246\n",
      "Epoch 31/100\n",
      "50000/50000 [==============================] - 2s 33us/step - loss: 0.9287 - accuracy: 0.6707 - val_loss: 1.4290 - val_accuracy: 0.5257\n",
      "Epoch 32/100\n",
      "50000/50000 [==============================] - 2s 33us/step - loss: 0.9123 - accuracy: 0.6776 - val_loss: 1.4346 - val_accuracy: 0.5332\n",
      "Epoch 33/100\n",
      "50000/50000 [==============================] - 2s 33us/step - loss: 0.8970 - accuracy: 0.6805 - val_loss: 1.4902 - val_accuracy: 0.5152\n",
      "Epoch 34/100\n",
      "50000/50000 [==============================] - 2s 33us/step - loss: 0.8734 - accuracy: 0.6880 - val_loss: 1.4948 - val_accuracy: 0.5116\n",
      "Epoch 35/100\n",
      "50000/50000 [==============================] - 2s 33us/step - loss: 0.8582 - accuracy: 0.6934 - val_loss: 1.4548 - val_accuracy: 0.5265\n",
      "Epoch 36/100\n",
      "50000/50000 [==============================] - 2s 33us/step - loss: 0.8517 - accuracy: 0.6964 - val_loss: 1.5155 - val_accuracy: 0.5270\n",
      "Epoch 37/100\n",
      "50000/50000 [==============================] - 2s 33us/step - loss: 0.8312 - accuracy: 0.7052 - val_loss: 1.5142 - val_accuracy: 0.5227\n",
      "Epoch 38/100\n",
      "50000/50000 [==============================] - 2s 33us/step - loss: 0.8128 - accuracy: 0.7103 - val_loss: 1.4973 - val_accuracy: 0.5246\n",
      "Epoch 39/100\n",
      "50000/50000 [==============================] - 2s 32us/step - loss: 0.7922 - accuracy: 0.7177 - val_loss: 1.5562 - val_accuracy: 0.5259\n",
      "Epoch 40/100\n",
      "50000/50000 [==============================] - 2s 33us/step - loss: 0.7786 - accuracy: 0.7209 - val_loss: 1.5699 - val_accuracy: 0.5195\n",
      "Epoch 41/100\n",
      "50000/50000 [==============================] - 2s 33us/step - loss: 0.7661 - accuracy: 0.7269 - val_loss: 1.6025 - val_accuracy: 0.5208\n",
      "Epoch 42/100\n",
      "50000/50000 [==============================] - 2s 33us/step - loss: 0.7562 - accuracy: 0.7308 - val_loss: 1.6085 - val_accuracy: 0.5115\n",
      "Epoch 43/100\n",
      "50000/50000 [==============================] - 2s 33us/step - loss: 0.7467 - accuracy: 0.7342 - val_loss: 1.6457 - val_accuracy: 0.5058\n",
      "Epoch 44/100\n",
      "50000/50000 [==============================] - 2s 32us/step - loss: 0.7242 - accuracy: 0.7434 - val_loss: 1.6497 - val_accuracy: 0.5219\n",
      "Epoch 45/100\n",
      "50000/50000 [==============================] - 2s 33us/step - loss: 0.7061 - accuracy: 0.7486 - val_loss: 1.6697 - val_accuracy: 0.5273\n",
      "Epoch 46/100\n",
      "50000/50000 [==============================] - 2s 33us/step - loss: 0.6934 - accuracy: 0.7556 - val_loss: 1.6901 - val_accuracy: 0.5217\n",
      "Epoch 47/100\n",
      "50000/50000 [==============================] - 2s 32us/step - loss: 0.6738 - accuracy: 0.7601 - val_loss: 1.7241 - val_accuracy: 0.5182\n",
      "Epoch 48/100\n",
      "50000/50000 [==============================] - 2s 32us/step - loss: 0.6651 - accuracy: 0.7623 - val_loss: 1.7278 - val_accuracy: 0.5139\n",
      "Epoch 49/100\n",
      "50000/50000 [==============================] - 2s 33us/step - loss: 0.6413 - accuracy: 0.7712 - val_loss: 1.7366 - val_accuracy: 0.5191\n",
      "Epoch 50/100\n",
      "50000/50000 [==============================] - 2s 32us/step - loss: 0.6403 - accuracy: 0.7717 - val_loss: 1.7661 - val_accuracy: 0.5223\n",
      "Epoch 51/100\n",
      "50000/50000 [==============================] - 2s 32us/step - loss: 0.6228 - accuracy: 0.7773 - val_loss: 1.7770 - val_accuracy: 0.5221\n",
      "Epoch 52/100\n",
      "50000/50000 [==============================] - 2s 33us/step - loss: 0.6114 - accuracy: 0.7812 - val_loss: 1.8461 - val_accuracy: 0.5142\n",
      "Epoch 53/100\n",
      "50000/50000 [==============================] - 2s 33us/step - loss: 0.6057 - accuracy: 0.7833 - val_loss: 1.8582 - val_accuracy: 0.5141\n",
      "Epoch 54/100\n",
      "50000/50000 [==============================] - 2s 32us/step - loss: 0.6005 - accuracy: 0.7826 - val_loss: 1.8376 - val_accuracy: 0.5130\n",
      "Epoch 55/100\n",
      "50000/50000 [==============================] - 2s 33us/step - loss: 0.5882 - accuracy: 0.7889 - val_loss: 1.9142 - val_accuracy: 0.5168\n"
     ]
    },
    {
     "name": "stdout",
     "output_type": "stream",
     "text": [
      "Epoch 56/100\n",
      "50000/50000 [==============================] - 2s 32us/step - loss: 0.5674 - accuracy: 0.7988 - val_loss: 1.9382 - val_accuracy: 0.5156\n",
      "Epoch 57/100\n",
      "50000/50000 [==============================] - 2s 32us/step - loss: 0.5688 - accuracy: 0.7961 - val_loss: 1.9784 - val_accuracy: 0.5166\n",
      "Epoch 58/100\n",
      "50000/50000 [==============================] - 2s 31us/step - loss: 0.5421 - accuracy: 0.8059 - val_loss: 1.9565 - val_accuracy: 0.5144\n",
      "Epoch 59/100\n",
      "50000/50000 [==============================] - 2s 32us/step - loss: 0.5327 - accuracy: 0.8096 - val_loss: 2.0097 - val_accuracy: 0.5187\n",
      "Epoch 60/100\n",
      "50000/50000 [==============================] - 2s 32us/step - loss: 0.5220 - accuracy: 0.8152 - val_loss: 2.0435 - val_accuracy: 0.5169\n",
      "Epoch 61/100\n",
      "50000/50000 [==============================] - 2s 32us/step - loss: 0.5365 - accuracy: 0.8080 - val_loss: 2.0256 - val_accuracy: 0.5094\n",
      "Epoch 62/100\n",
      "50000/50000 [==============================] - 2s 32us/step - loss: 0.5147 - accuracy: 0.8165 - val_loss: 2.1271 - val_accuracy: 0.5004\n",
      "Epoch 63/100\n",
      "50000/50000 [==============================] - 2s 32us/step - loss: 0.4945 - accuracy: 0.8220 - val_loss: 2.1212 - val_accuracy: 0.5055\n",
      "Epoch 64/100\n",
      "50000/50000 [==============================] - 2s 31us/step - loss: 0.4928 - accuracy: 0.8241 - val_loss: 2.2093 - val_accuracy: 0.4998\n",
      "Epoch 65/100\n",
      "50000/50000 [==============================] - 2s 32us/step - loss: 0.4830 - accuracy: 0.8284 - val_loss: 2.1666 - val_accuracy: 0.5174\n",
      "Epoch 66/100\n",
      "50000/50000 [==============================] - 2s 32us/step - loss: 0.4597 - accuracy: 0.8360 - val_loss: 2.2118 - val_accuracy: 0.5071\n",
      "Epoch 67/100\n",
      "50000/50000 [==============================] - 2s 32us/step - loss: 0.4464 - accuracy: 0.8416 - val_loss: 2.2656 - val_accuracy: 0.5059\n",
      "Epoch 68/100\n",
      "50000/50000 [==============================] - 2s 32us/step - loss: 0.4593 - accuracy: 0.8357 - val_loss: 2.3052 - val_accuracy: 0.5081\n",
      "Epoch 69/100\n",
      "50000/50000 [==============================] - 2s 32us/step - loss: 0.4544 - accuracy: 0.8375 - val_loss: 2.2658 - val_accuracy: 0.5045\n",
      "Epoch 70/100\n",
      "50000/50000 [==============================] - 2s 32us/step - loss: 0.4395 - accuracy: 0.8414 - val_loss: 2.3201 - val_accuracy: 0.5147\n",
      "Epoch 71/100\n",
      "50000/50000 [==============================] - 2s 32us/step - loss: 0.4285 - accuracy: 0.8479 - val_loss: 2.3983 - val_accuracy: 0.5110\n",
      "Epoch 72/100\n",
      "50000/50000 [==============================] - 2s 32us/step - loss: 0.4303 - accuracy: 0.8449 - val_loss: 2.3890 - val_accuracy: 0.5053\n",
      "Epoch 73/100\n",
      "50000/50000 [==============================] - 2s 32us/step - loss: 0.3955 - accuracy: 0.8597 - val_loss: 2.4883 - val_accuracy: 0.5032\n",
      "Epoch 74/100\n",
      "50000/50000 [==============================] - 2s 32us/step - loss: 0.4098 - accuracy: 0.8541 - val_loss: 2.4737 - val_accuracy: 0.5016\n",
      "Epoch 75/100\n",
      "50000/50000 [==============================] - 2s 32us/step - loss: 0.3877 - accuracy: 0.8622 - val_loss: 2.5680 - val_accuracy: 0.5007\n",
      "Epoch 76/100\n",
      "50000/50000 [==============================] - 2s 32us/step - loss: 0.4296 - accuracy: 0.8451 - val_loss: 2.5036 - val_accuracy: 0.5039\n",
      "Epoch 77/100\n",
      "50000/50000 [==============================] - 2s 32us/step - loss: 0.3993 - accuracy: 0.8562 - val_loss: 2.5376 - val_accuracy: 0.4982\n",
      "Epoch 78/100\n",
      "50000/50000 [==============================] - 2s 32us/step - loss: 0.3918 - accuracy: 0.8610 - val_loss: 2.6415 - val_accuracy: 0.5027\n",
      "Epoch 79/100\n",
      "50000/50000 [==============================] - 2s 32us/step - loss: 0.3796 - accuracy: 0.8653 - val_loss: 2.6564 - val_accuracy: 0.5042\n",
      "Epoch 80/100\n",
      "50000/50000 [==============================] - 2s 32us/step - loss: 0.3522 - accuracy: 0.8745 - val_loss: 2.6590 - val_accuracy: 0.4994\n",
      "Epoch 81/100\n",
      "50000/50000 [==============================] - 2s 32us/step - loss: 0.3598 - accuracy: 0.8722 - val_loss: 2.7207 - val_accuracy: 0.5043\n",
      "Epoch 82/100\n",
      "50000/50000 [==============================] - 2s 32us/step - loss: 0.3610 - accuracy: 0.8705 - val_loss: 2.7346 - val_accuracy: 0.5068\n",
      "Epoch 83/100\n",
      "50000/50000 [==============================] - 2s 32us/step - loss: 0.3524 - accuracy: 0.8748 - val_loss: 2.7594 - val_accuracy: 0.4934\n",
      "Epoch 84/100\n",
      "50000/50000 [==============================] - 2s 32us/step - loss: 0.3644 - accuracy: 0.8700 - val_loss: 2.8146 - val_accuracy: 0.4941\n",
      "Epoch 85/100\n",
      "50000/50000 [==============================] - 2s 32us/step - loss: 0.3455 - accuracy: 0.8755 - val_loss: 2.9833 - val_accuracy: 0.4858\n",
      "Epoch 86/100\n",
      "50000/50000 [==============================] - 2s 32us/step - loss: 0.3523 - accuracy: 0.8735 - val_loss: 2.8935 - val_accuracy: 0.4986\n",
      "Epoch 87/100\n",
      "50000/50000 [==============================] - 2s 33us/step - loss: 0.3367 - accuracy: 0.8802 - val_loss: 2.8484 - val_accuracy: 0.5043\n",
      "Epoch 88/100\n",
      "50000/50000 [==============================] - 2s 32us/step - loss: 0.3268 - accuracy: 0.8846 - val_loss: 2.9374 - val_accuracy: 0.4984\n",
      "Epoch 89/100\n",
      "50000/50000 [==============================] - 2s 32us/step - loss: 0.3379 - accuracy: 0.8789 - val_loss: 2.9839 - val_accuracy: 0.5034\n",
      "Epoch 90/100\n",
      "50000/50000 [==============================] - 2s 32us/step - loss: 0.3162 - accuracy: 0.8859 - val_loss: 2.9274 - val_accuracy: 0.5048\n",
      "Epoch 91/100\n",
      "50000/50000 [==============================] - 2s 32us/step - loss: 0.3195 - accuracy: 0.8853 - val_loss: 2.9099 - val_accuracy: 0.5012\n",
      "Epoch 92/100\n",
      "50000/50000 [==============================] - 2s 32us/step - loss: 0.3151 - accuracy: 0.8872 - val_loss: 3.0559 - val_accuracy: 0.5110\n",
      "Epoch 93/100\n",
      "50000/50000 [==============================] - 2s 32us/step - loss: 0.3179 - accuracy: 0.8871 - val_loss: 3.0280 - val_accuracy: 0.5013\n",
      "Epoch 94/100\n",
      "50000/50000 [==============================] - 2s 32us/step - loss: 0.2815 - accuracy: 0.8992 - val_loss: 3.0845 - val_accuracy: 0.5017\n",
      "Epoch 95/100\n",
      "50000/50000 [==============================] - 2s 32us/step - loss: 0.2927 - accuracy: 0.8952 - val_loss: 3.1664 - val_accuracy: 0.4955\n",
      "Epoch 96/100\n",
      "50000/50000 [==============================] - 2s 32us/step - loss: 0.3068 - accuracy: 0.8902 - val_loss: 3.2653 - val_accuracy: 0.4978\n",
      "Epoch 97/100\n",
      "50000/50000 [==============================] - 2s 32us/step - loss: 0.3034 - accuracy: 0.8913 - val_loss: 3.2311 - val_accuracy: 0.5023\n",
      "Epoch 98/100\n",
      "50000/50000 [==============================] - 2s 32us/step - loss: 0.3067 - accuracy: 0.8906 - val_loss: 3.2018 - val_accuracy: 0.4989\n",
      "Epoch 99/100\n",
      "50000/50000 [==============================] - 2s 33us/step - loss: 0.2807 - accuracy: 0.8997 - val_loss: 3.2430 - val_accuracy: 0.5041\n",
      "Epoch 100/100\n",
      "50000/50000 [==============================] - 2s 33us/step - loss: 0.2819 - accuracy: 0.8990 - val_loss: 3.3482 - val_accuracy: 0.4983\n"
     ]
    },
    {
     "data": {
      "text/plain": [
       "<keras.callbacks.callbacks.History at 0x7f3ca4718160>"
      ]
     },
     "execution_count": 10,
     "metadata": {},
     "output_type": "execute_result"
    }
   ],
   "source": [
    "model.fit(x_train, y_train, \n",
    "          epochs=EPOCHS, \n",
    "          batch_size=BATCH_SIZE, \n",
    "          validation_data=(x_test, y_test), \n",
    "          shuffle=True)"
   ]
  },
  {
   "cell_type": "code",
   "execution_count": 13,
   "metadata": {},
   "outputs": [
    {
     "data": {
      "image/png": "[encoded data removed]",
      "text/plain": [
       "<Figure size 432x288 with 1 Axes>"
      ]
     },
     "metadata": {
      "needs_background": "light"
     },
     "output_type": "display_data"
    },
    {
     "data": {
      "image/png": "[encoded data removed]",
      "text/plain": [
       "<Figure size 432x288 with 1 Axes>"
      ]
     },
     "metadata": {
      "needs_background": "light"
     },
     "output_type": "display_data"
    }
   ],
   "source": [
    "import matplotlib.pyplot as plt\n",
    "\n",
    "\n",
    "train_loss = model.history.history[\"loss\"]\n",
    "valid_loss = model.history.history[\"val_loss\"]\n",
    "\n",
    "train_acc = model.history.history[\"accuracy\"]\n",
    "valid_acc = model.history.history[\"val_accuracy\"]\n",
    "\n",
    "plt.plot(range(len(train_loss)), train_loss, label=\"train loss\")\n",
    "plt.plot(range(len(valid_loss)), valid_loss, label=\"valid loss\")\n",
    "plt.legend()\n",
    "plt.title(\"Loss\")\n",
    "plt.show()\n",
    "\n",
    "plt.plot(range(len(train_acc)), train_acc, label=\"train accuracy\")\n",
    "plt.plot(range(len(valid_acc)), valid_acc, label=\"valid accuracy\")\n",
    "plt.legend()\n",
    "plt.title(\"Accuracy\")\n",
    "plt.show()"
   ]
  },
  {
   "cell_type": "markdown",
   "metadata": {},
   "source": [
    "Q: 請改用 GPU 進行訓練 (如果你有 GPU 的話)，比較使用 CPU 與 GPU 的訓練速度\n",
    "> ＡＮＳ：　訓練時間少了１／２～２／３"
   ]
  },
  {
   "cell_type": "code",
   "execution_count": null,
   "metadata": {},
   "outputs": [],
   "source": []
  }
 ],
 "metadata": {
  "kernelspec": {
   "display_name": "Python 3",
   "language": "python",
   "name": "python3"
  },
  "language_info": {
   "codemirror_mode": {
    "name": "ipython",
    "version": 3
   },
   "file_extension": ".py",
   "mimetype": "text/x-python",
   "name": "python",
   "nbconvert_exporter": "python",
   "pygments_lexer": "ipython3",
   "version": "3.7.3"
  }
 },
 "nbformat": 4,
 "nbformat_minor": 2
}
