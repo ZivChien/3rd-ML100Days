{
 "cells": [
  {
   "cell_type": "markdown",
   "metadata": {},
   "source": [
    "## [作業重點]\n",
    "確保你了解隨機森林模型中每個超參數的意義，並觀察調整超參數對結果的影響"
   ]
  },
  {
   "cell_type": "markdown",
   "metadata": {},
   "source": [
    "## 作業"
   ]
  },
  {
   "cell_type": "markdown",
   "metadata": {},
   "source": [
    "### 1. 試著調整 RandomForestClassifier(...) 中的參數，並觀察是否會改變結果？"
   ]
  },
  {
   "cell_type": "code",
   "execution_count": 1,
   "metadata": {},
   "outputs": [],
   "source": [
    "from sklearn import datasets, metrics\n",
    "from sklearn.ensemble import RandomForestClassifier\n",
    "from sklearn.model_selection import train_test_split"
   ]
  },
  {
   "cell_type": "code",
   "execution_count": 2,
   "metadata": {},
   "outputs": [],
   "source": [
    "# 讀取鳶尾花資料集\n",
    "iris = datasets.load_iris()\n",
    "\n",
    "# 切分訓練集/測試集\n",
    "x_train, x_test, y_train, y_test = train_test_split(iris.data, iris.target, test_size=0.25, random_state=4)"
   ]
  },
  {
   "cell_type": "code",
   "execution_count": 3,
   "metadata": {},
   "outputs": [
    {
     "name": "stdout",
     "output_type": "stream",
     "text": [
      "Accuracy:  0.9736842105263158\n"
     ]
    }
   ],
   "source": [
    "# 建立模型 (使用 20 顆樹，每棵樹的最大深度為 4)\n",
    "clf1 = RandomForestClassifier(n_estimators=20, max_depth=4)\n",
    "\n",
    "# 訓練模型\n",
    "clf1.fit(x_train, y_train)\n",
    "\n",
    "# 預測測試集\n",
    "y_pred1 = clf1.predict(x_test)\n",
    "\n",
    "acc1 = metrics.accuracy_score(y_test, y_pred1)\n",
    "print(\"Accuracy: \", acc1)"
   ]
  },
  {
   "cell_type": "code",
   "execution_count": 4,
   "metadata": {},
   "outputs": [
    {
     "name": "stdout",
     "output_type": "stream",
     "text": [
      "Accuracy:  0.9473684210526315\n"
     ]
    }
   ],
   "source": [
    "clf2 = RandomForestClassifier(n_estimators=20, max_depth=10)\n",
    "clf2.fit(x_train, y_train)\n",
    "y_pred2 = clf2.predict(x_test)\n",
    "\n",
    "acc2 = metrics.accuracy_score(y_test, y_pred2)\n",
    "print(\"Accuracy: \", acc2)"
   ]
  },
  {
   "cell_type": "code",
   "execution_count": 5,
   "metadata": {},
   "outputs": [
    {
     "name": "stdout",
     "output_type": "stream",
     "text": [
      "Accuracy:  0.9736842105263158\n"
     ]
    }
   ],
   "source": [
    "clf3 = RandomForestClassifier(n_estimators=50, max_depth=4)\n",
    "clf3.fit(x_train, y_train)\n",
    "y_pred3 = clf3.predict(x_test)\n",
    "\n",
    "acc3 = metrics.accuracy_score(y_test, y_pred3)\n",
    "print(\"Accuracy: \", acc3)"
   ]
  },
  {
   "cell_type": "code",
   "execution_count": 6,
   "metadata": {},
   "outputs": [
    {
     "name": "stdout",
     "output_type": "stream",
     "text": [
      "Accuracy:  0.9736842105263158\n"
     ]
    }
   ],
   "source": [
    "clf4 = RandomForestClassifier(n_estimators=5, max_depth=1)\n",
    "clf4.fit(x_train, y_train)\n",
    "y_pred4 = clf4.predict(x_test)\n",
    "\n",
    "acc4 = metrics.accuracy_score(y_test, y_pred4)\n",
    "print(\"Accuracy: \", acc4)"
   ]
  },
  {
   "cell_type": "code",
   "execution_count": 7,
   "metadata": {},
   "outputs": [
    {
     "name": "stdout",
     "output_type": "stream",
     "text": [
      "e=20, d= 4, accuracy:  0.9736842105263158\n",
      "e=20, d=10, accuracy:  0.9473684210526315\n",
      "e=50, d= 4, accuracy:  0.9736842105263158\n",
      "e= 5, d= 1, accuracy:  0.9736842105263158\n"
     ]
    }
   ],
   "source": [
    "print(\"e=20, d= 4, accuracy: \", acc1)\n",
    "print(\"e=20, d=10, accuracy: \", acc2)\n",
    "print(\"e=50, d= 4, accuracy: \", acc3)\n",
    "print(\"e= 5, d= 1, accuracy: \", acc4)"
   ]
  },
  {
   "cell_type": "markdown",
   "metadata": {},
   "source": [
    "2. 改用其他資料集 (boston, wine)，並與回歸模型與決策樹的結果進行比較"
   ]
  },
  {
   "cell_type": "code",
   "execution_count": 8,
   "metadata": {},
   "outputs": [],
   "source": [
    "from sklearn.tree import DecisionTreeClassifier\n",
    "from sklearn import linear_model"
   ]
  },
  {
   "cell_type": "code",
   "execution_count": 9,
   "metadata": {},
   "outputs": [],
   "source": [
    "wine = datasets.load_wine()\n",
    "x_train, x_test, y_train, y_test = train_test_split(wine.data, wine.target, test_size=0.25, random_state=4)"
   ]
  },
  {
   "cell_type": "code",
   "execution_count": 10,
   "metadata": {},
   "outputs": [],
   "source": [
    "rfc = RandomForestClassifier(n_estimators=20, max_depth=4)\n",
    "rfc.fit(x_train, y_train)\n",
    "rfc_y_pred = rfc.predict(x_test)\n",
    "rfc_acc = metrics.accuracy_score(y_test, rfc_y_pred)"
   ]
  },
  {
   "cell_type": "code",
   "execution_count": 11,
   "metadata": {},
   "outputs": [],
   "source": [
    "dtc = DecisionTreeClassifier()\n",
    "dtc.fit(x_train, y_train)\n",
    "\n",
    "dtc_y_pred = dtc.predict(x_test)\n",
    "dtc_acc = metrics.accuracy_score(y_test, dtc_y_pred)"
   ]
  },
  {
   "cell_type": "code",
   "execution_count": 12,
   "metadata": {},
   "outputs": [],
   "source": [
    "regr = linear_model.LinearRegression()\n",
    "regr.fit(x_train, y_train)\n",
    "\n",
    "regr_y_pred = regr.predict(x_test)\n",
    "regr_acc = metrics.accuracy_score(y_test, dtc_y_pred)"
   ]
  },
  {
   "cell_type": "code",
   "execution_count": 13,
   "metadata": {},
   "outputs": [
    {
     "name": "stdout",
     "output_type": "stream",
     "text": [
      "RandomForestClassifier Accuracy:  0.9777777777777777\n",
      "DecisionTreeClassifier Accuracy:  0.9111111111111111\n",
      "LinearRegression       Accuracy:  0.9111111111111111\n"
     ]
    }
   ],
   "source": [
    "print(\"RandomForestClassifier Accuracy: \", rfc_acc)\n",
    "print(\"DecisionTreeClassifier Accuracy: \", dtc_acc)\n",
    "print(\"LinearRegression       Accuracy: \", regr_acc)"
   ]
  },
  {
   "cell_type": "code",
   "execution_count": null,
   "metadata": {},
   "outputs": [],
   "source": []
  }
 ],
 "metadata": {
  "kernelspec": {
   "display_name": "Python 3",
   "language": "python",
   "name": "python3"
  },
  "language_info": {
   "codemirror_mode": {
    "name": "ipython",
    "version": 3
   },
   "file_extension": ".py",
   "mimetype": "text/x-python",
   "name": "python",
   "nbconvert_exporter": "python",
   "pygments_lexer": "ipython3",
   "version": "3.7.3"
  }
 },
 "nbformat": 4,
 "nbformat_minor": 2
}
