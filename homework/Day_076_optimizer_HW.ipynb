{
 "cells": [
  {
   "cell_type": "markdown",
   "metadata": {},
   "source": [
    "# 作業重點:\n",
    "\n",
    "(1)以, Adam, 為例, 調整 batch_size, epoch , 觀察accurancy, loss 的變化\n",
    "\n",
    "(2)以同一模型, 分別驗證 SGD, Adam, Rmsprop 的 accurancy"
   ]
  },
  {
   "cell_type": "markdown",
   "metadata": {},
   "source": [
    "# 作業目標:\n",
    "    \n",
    "    取得各種優化器的運算結果"
   ]
  },
  {
   "cell_type": "code",
   "execution_count": 1,
   "metadata": {},
   "outputs": [
    {
     "name": "stderr",
     "output_type": "stream",
     "text": [
      "Using TensorFlow backend.\n"
     ]
    }
   ],
   "source": [
    "from __future__ import print_function\n",
    "import keras\n",
    "from keras.datasets import cifar10\n",
    "from keras.preprocessing.image import ImageDataGenerator\n",
    "from keras.models import Sequential\n",
    "from keras.layers import Dense, Dropout, Activation, Flatten\n",
    "from keras.layers import Conv2D, MaxPooling2D\n",
    "import os\n",
    "from keras import optimizers"
   ]
  },
  {
   "cell_type": "code",
   "execution_count": 2,
   "metadata": {},
   "outputs": [],
   "source": [
    "#Blas GEMM launch failed , 避免動態分配GPU / CPU, 出現問題\n",
    "import tensorflow as tf\n",
    "#gpu_options = tf.GPUOptions(per_process_gpu_memory_fraction=0.333)\n",
    "#sess = tf.Session(config=tf.ConfigProto(gpu_options=gpu_options))\n",
    "gpu_options = tf.compat.v1.GPUOptions(per_process_gpu_memory_fraction=0.333)\n",
    "sess = tf.compat.v1.Session(config=tf.compat.v1.ConfigProto(gpu_options=gpu_options))"
   ]
  },
  {
   "cell_type": "code",
   "execution_count": 3,
   "metadata": {},
   "outputs": [],
   "source": [
    "'''\n",
    "   宣告並設定\n",
    "   batch_size：對總的樣本數進行分組，每組包含的樣本數量\n",
    "   epochs ：訓練次數\n",
    "   \n",
    "''' \n",
    "\n",
    "#batch_size = 32\n",
    "#epochs = 20\n",
    "batch_size = 50\n",
    "epochs = 50\n",
    "num_classes = 10\n",
    "data_augmentation = True\n",
    "num_predictions = 20\n",
    "save_dir = os.path.join(os.getcwd(), 'saved_models')\n",
    "model_name = 'keras_cifar10_trained_model.h5'"
   ]
  },
  {
   "cell_type": "code",
   "execution_count": 4,
   "metadata": {},
   "outputs": [
    {
     "name": "stdout",
     "output_type": "stream",
     "text": [
      "x_train shape: (50000, 32, 32, 3)\n",
      "50000 train samples\n",
      "10000 test samples\n"
     ]
    }
   ],
   "source": [
    "# The data, split between train and test sets:\n",
    "(x_train, y_train), (x_test, y_test) = cifar10.load_data()\n",
    "print('x_train shape:', x_train.shape)\n",
    "print(x_train.shape[0], 'train samples')\n",
    "print(x_test.shape[0], 'test samples')\n",
    "\n",
    "# Convert class vectors to binary class matrices.\n",
    "y_train = keras.utils.to_categorical(y_train, num_classes)\n",
    "y_test = keras.utils.to_categorical(y_test, num_classes)"
   ]
  },
  {
   "cell_type": "code",
   "execution_count": 5,
   "metadata": {},
   "outputs": [],
   "source": [
    "#    第一步：選擇模型, 順序模型是多個網絡層的線性堆疊\n",
    "model = Sequential()\n",
    "\n",
    "#   第二步：構建網絡層\n",
    "model.add(Conv2D(32, (3, 3), padding='same',\n",
    "                 input_shape=x_train.shape[1:]))\n",
    "model.add(Activation('relu'))\n",
    "model.add(Conv2D(32, (3, 3)))\n",
    "model.add(Activation('relu'))\n",
    "model.add(MaxPooling2D(pool_size=(2, 2)))\n",
    "model.add(Dropout(0.25))\n",
    "\n",
    "model.add(Conv2D(64, (3, 3), padding='same'))\n",
    "model.add(Activation('relu'))\n",
    "model.add(Conv2D(64, (3, 3)))\n",
    "model.add(Activation('relu'))\n",
    "model.add(MaxPooling2D(pool_size=(2, 2)))\n",
    "model.add(Dropout(0.25))\n",
    "\n",
    "model.add(Flatten())\n",
    "model.add(Dense(512))\n",
    "model.add(Activation('relu'))\n",
    "model.add(Dropout(0.5))\n",
    "\n",
    "model.add(Dense( 10)) # 輸出結果是10個類別，所以維度是10   \n",
    "model.add(Activation('softmax')) # 最後一層用softmax作為激活函數"
   ]
  },
  {
   "cell_type": "code",
   "execution_count": 6,
   "metadata": {},
   "outputs": [
    {
     "name": "stdout",
     "output_type": "stream",
     "text": [
      "Total Parameters：1250858\n"
     ]
    }
   ],
   "source": [
    "# 模型建立完成後，統計參數總量\n",
    "print(\"Total Parameters：%d\" % model.count_params())"
   ]
  },
  {
   "cell_type": "code",
   "execution_count": 7,
   "metadata": {},
   "outputs": [
    {
     "name": "stdout",
     "output_type": "stream",
     "text": [
      "Model: \"sequential_1\"\n",
      "_________________________________________________________________\n",
      "Layer (type)                 Output Shape              Param #   \n",
      "=================================================================\n",
      "conv2d_1 (Conv2D)            (None, 32, 32, 32)        896       \n",
      "_________________________________________________________________\n",
      "activation_1 (Activation)    (None, 32, 32, 32)        0         \n",
      "_________________________________________________________________\n",
      "conv2d_2 (Conv2D)            (None, 30, 30, 32)        9248      \n",
      "_________________________________________________________________\n",
      "activation_2 (Activation)    (None, 30, 30, 32)        0         \n",
      "_________________________________________________________________\n",
      "max_pooling2d_1 (MaxPooling2 (None, 15, 15, 32)        0         \n",
      "_________________________________________________________________\n",
      "dropout_1 (Dropout)          (None, 15, 15, 32)        0         \n",
      "_________________________________________________________________\n",
      "conv2d_3 (Conv2D)            (None, 15, 15, 64)        18496     \n",
      "_________________________________________________________________\n",
      "activation_3 (Activation)    (None, 15, 15, 64)        0         \n",
      "_________________________________________________________________\n",
      "conv2d_4 (Conv2D)            (None, 13, 13, 64)        36928     \n",
      "_________________________________________________________________\n",
      "activation_4 (Activation)    (None, 13, 13, 64)        0         \n",
      "_________________________________________________________________\n",
      "max_pooling2d_2 (MaxPooling2 (None, 6, 6, 64)          0         \n",
      "_________________________________________________________________\n",
      "dropout_2 (Dropout)          (None, 6, 6, 64)          0         \n",
      "_________________________________________________________________\n",
      "flatten_1 (Flatten)          (None, 2304)              0         \n",
      "_________________________________________________________________\n",
      "dense_1 (Dense)              (None, 512)               1180160   \n",
      "_________________________________________________________________\n",
      "activation_5 (Activation)    (None, 512)               0         \n",
      "_________________________________________________________________\n",
      "dropout_3 (Dropout)          (None, 512)               0         \n",
      "_________________________________________________________________\n",
      "dense_2 (Dense)              (None, 10)                5130      \n",
      "_________________________________________________________________\n",
      "activation_6 (Activation)    (None, 10)                0         \n",
      "=================================================================\n",
      "Total params: 1,250,858\n",
      "Trainable params: 1,250,858\n",
      "Non-trainable params: 0\n",
      "_________________________________________________________________\n"
     ]
    }
   ],
   "source": [
    "# 輸出模型摘要資訊\n",
    "model.summary()"
   ]
  },
  {
   "cell_type": "code",
   "execution_count": 8,
   "metadata": {},
   "outputs": [],
   "source": [
    "#第三步編譯\n",
    "'''\n",
    " SGD(隨機梯度下降) - Arguments\n",
    "lr: float >= 0. Learning rate.\n",
    "momentum: float >= 0. Parameter that accelerates SGD in the relevant direction and dampens oscillations.\n",
    "decay: float >= 0. Learning rate decay over each update.\n",
    "nesterov: boolean. Whether to apply Nesterov momentum.\n",
    "'''\n",
    "\n",
    "'''\n",
    "RMSprop- Arguments\n",
    "lr: float >= 0. Learning rate.\n",
    "rho: float >= 0.\n",
    "epsilon: float >= 0. Fuzz factor. If None, defaults to K.epsilon().\n",
    "decay: float >= 0. Learning rate decay over each update.\n",
    "'''\n",
    "\n",
    "'''\n",
    "Example:\n",
    "opt = optimizers.SGD(lr=0.01, decay=1e-6, momentum=0.9, nesterov=True)\n",
    "'''\n",
    "\n",
    "opt = optimizers.SGD(lr=0.01, decay=1e-6, momentum=0.9, nesterov=True)\n",
    "model.compile(optimizer = opt, loss = 'categorical_crossentropy', metrics = ['accuracy'])"
   ]
  },
  {
   "cell_type": "code",
   "execution_count": 9,
   "metadata": {},
   "outputs": [],
   "source": [
    "# 資料正規化\n",
    "x_train = x_train.astype('float32')\n",
    "x_test = x_test.astype('float32')\n",
    "x_train /= 255\n",
    "x_test /= 255"
   ]
  },
  {
   "cell_type": "code",
   "execution_count": 10,
   "metadata": {
    "scrolled": false
   },
   "outputs": [
    {
     "name": "stdout",
     "output_type": "stream",
     "text": [
      "Using real-time data augmentation.\n",
      "\n",
      "Train on 50000 samples, validate on 10000 samples\n",
      "Epoch 1/50\n",
      "50000/50000 [==============================] - 11s 212us/step - loss: 1.7734 - accuracy: 0.3438 - val_loss: 1.3451 - val_accuracy: 0.5107\n",
      "Epoch 2/50\n",
      "50000/50000 [==============================] - 9s 188us/step - loss: 1.3103 - accuracy: 0.5251 - val_loss: 1.1366 - val_accuracy: 0.5921\n",
      "Epoch 3/50\n",
      "50000/50000 [==============================] - 9s 190us/step - loss: 1.1296 - accuracy: 0.5983 - val_loss: 0.9908 - val_accuracy: 0.6594\n",
      "Epoch 4/50\n",
      "50000/50000 [==============================] - 9s 187us/step - loss: 0.9962 - accuracy: 0.6456 - val_loss: 0.8924 - val_accuracy: 0.6799\n",
      "Epoch 5/50\n",
      "50000/50000 [==============================] - 9s 187us/step - loss: 0.9098 - accuracy: 0.6802 - val_loss: 0.8093 - val_accuracy: 0.7201\n",
      "Epoch 6/50\n",
      "50000/50000 [==============================] - 9s 184us/step - loss: 0.8450 - accuracy: 0.7055 - val_loss: 0.7678 - val_accuracy: 0.7315\n",
      "Epoch 7/50\n",
      "50000/50000 [==============================] - 9s 187us/step - loss: 0.7888 - accuracy: 0.7223 - val_loss: 0.7445 - val_accuracy: 0.7407\n",
      "Epoch 8/50\n",
      "50000/50000 [==============================] - 10s 191us/step - loss: 0.7509 - accuracy: 0.7360 - val_loss: 0.7076 - val_accuracy: 0.7544\n",
      "Epoch 9/50\n",
      "50000/50000 [==============================] - 9s 189us/step - loss: 0.7096 - accuracy: 0.7515 - val_loss: 0.7074 - val_accuracy: 0.7614\n",
      "Epoch 10/50\n",
      "50000/50000 [==============================] - 9s 184us/step - loss: 0.6843 - accuracy: 0.7619 - val_loss: 0.6741 - val_accuracy: 0.7705\n",
      "Epoch 11/50\n",
      "50000/50000 [==============================] - 10s 197us/step - loss: 0.6509 - accuracy: 0.7712 - val_loss: 0.6564 - val_accuracy: 0.7716\n",
      "Epoch 12/50\n",
      "50000/50000 [==============================] - 10s 194us/step - loss: 0.6213 - accuracy: 0.7821 - val_loss: 0.6303 - val_accuracy: 0.7881\n",
      "Epoch 13/50\n",
      "50000/50000 [==============================] - 10s 196us/step - loss: 0.6026 - accuracy: 0.7892 - val_loss: 0.6381 - val_accuracy: 0.7861\n",
      "Epoch 14/50\n",
      "50000/50000 [==============================] - 10s 195us/step - loss: 0.5820 - accuracy: 0.7949 - val_loss: 0.6423 - val_accuracy: 0.7823\n",
      "Epoch 15/50\n",
      "50000/50000 [==============================] - 10s 195us/step - loss: 0.5660 - accuracy: 0.8014 - val_loss: 0.6518 - val_accuracy: 0.7822\n",
      "Epoch 16/50\n",
      "50000/50000 [==============================] - 10s 195us/step - loss: 0.5508 - accuracy: 0.8047 - val_loss: 0.6326 - val_accuracy: 0.7863\n",
      "Epoch 17/50\n",
      "50000/50000 [==============================] - 10s 195us/step - loss: 0.5335 - accuracy: 0.8122 - val_loss: 0.6502 - val_accuracy: 0.7795\n",
      "Epoch 18/50\n",
      "50000/50000 [==============================] - 10s 195us/step - loss: 0.5177 - accuracy: 0.8181 - val_loss: 0.6341 - val_accuracy: 0.7830\n",
      "Epoch 19/50\n",
      "50000/50000 [==============================] - 10s 195us/step - loss: 0.5103 - accuracy: 0.8205 - val_loss: 0.6145 - val_accuracy: 0.7957\n",
      "Epoch 20/50\n",
      "50000/50000 [==============================] - 10s 196us/step - loss: 0.4973 - accuracy: 0.8234 - val_loss: 0.6109 - val_accuracy: 0.7928\n",
      "Epoch 21/50\n",
      "50000/50000 [==============================] - 10s 196us/step - loss: 0.4849 - accuracy: 0.8289 - val_loss: 0.6150 - val_accuracy: 0.8000\n",
      "Epoch 22/50\n",
      "50000/50000 [==============================] - 10s 195us/step - loss: 0.4782 - accuracy: 0.8291 - val_loss: 0.6463 - val_accuracy: 0.7884\n",
      "Epoch 23/50\n",
      "50000/50000 [==============================] - 10s 195us/step - loss: 0.4706 - accuracy: 0.8337 - val_loss: 0.6438 - val_accuracy: 0.7890\n",
      "Epoch 24/50\n",
      "50000/50000 [==============================] - 10s 196us/step - loss: 0.4635 - accuracy: 0.8354 - val_loss: 0.6080 - val_accuracy: 0.8015\n",
      "Epoch 25/50\n",
      "50000/50000 [==============================] - 10s 196us/step - loss: 0.4439 - accuracy: 0.8427 - val_loss: 0.6309 - val_accuracy: 0.7929\n",
      "Epoch 26/50\n",
      "50000/50000 [==============================] - 10s 193us/step - loss: 0.4488 - accuracy: 0.8440 - val_loss: 0.6418 - val_accuracy: 0.7922\n",
      "Epoch 27/50\n",
      "50000/50000 [==============================] - 10s 193us/step - loss: 0.4365 - accuracy: 0.8461 - val_loss: 0.6004 - val_accuracy: 0.8049\n",
      "Epoch 28/50\n",
      "50000/50000 [==============================] - 10s 195us/step - loss: 0.4291 - accuracy: 0.8513 - val_loss: 0.6265 - val_accuracy: 0.7968\n",
      "Epoch 29/50\n",
      "50000/50000 [==============================] - 10s 193us/step - loss: 0.4224 - accuracy: 0.8522 - val_loss: 0.6137 - val_accuracy: 0.8014\n",
      "Epoch 30/50\n",
      "50000/50000 [==============================] - 10s 192us/step - loss: 0.4223 - accuracy: 0.8513 - val_loss: 0.6375 - val_accuracy: 0.7990\n",
      "Epoch 31/50\n",
      "50000/50000 [==============================] - 10s 192us/step - loss: 0.4139 - accuracy: 0.8546 - val_loss: 0.6091 - val_accuracy: 0.8016\n",
      "Epoch 32/50\n",
      "50000/50000 [==============================] - 10s 193us/step - loss: 0.4176 - accuracy: 0.8552 - val_loss: 0.6753 - val_accuracy: 0.7881\n",
      "Epoch 33/50\n",
      "50000/50000 [==============================] - 10s 191us/step - loss: 0.4054 - accuracy: 0.8595 - val_loss: 0.6173 - val_accuracy: 0.8014\n",
      "Epoch 34/50\n",
      "50000/50000 [==============================] - 10s 193us/step - loss: 0.4056 - accuracy: 0.8576 - val_loss: 0.6372 - val_accuracy: 0.8019\n",
      "Epoch 35/50\n",
      "50000/50000 [==============================] - 10s 192us/step - loss: 0.4087 - accuracy: 0.8565 - val_loss: 0.6161 - val_accuracy: 0.8007\n",
      "Epoch 36/50\n",
      "50000/50000 [==============================] - 10s 198us/step - loss: 0.4013 - accuracy: 0.8599 - val_loss: 0.6460 - val_accuracy: 0.7991\n",
      "Epoch 37/50\n",
      "50000/50000 [==============================] - 10s 195us/step - loss: 0.3922 - accuracy: 0.8631 - val_loss: 0.6264 - val_accuracy: 0.8034\n",
      "Epoch 38/50\n",
      "50000/50000 [==============================] - 10s 200us/step - loss: 0.3936 - accuracy: 0.8622 - val_loss: 0.6389 - val_accuracy: 0.7994\n",
      "Epoch 39/50\n",
      "50000/50000 [==============================] - 10s 202us/step - loss: 0.3897 - accuracy: 0.8648 - val_loss: 0.6485 - val_accuracy: 0.8019\n",
      "Epoch 40/50\n",
      "50000/50000 [==============================] - 10s 200us/step - loss: 0.3843 - accuracy: 0.8681 - val_loss: 0.6262 - val_accuracy: 0.8001\n",
      "Epoch 41/50\n",
      "50000/50000 [==============================] - 10s 201us/step - loss: 0.3792 - accuracy: 0.8690 - val_loss: 0.6444 - val_accuracy: 0.7967\n",
      "Epoch 42/50\n",
      "50000/50000 [==============================] - 10s 198us/step - loss: 0.3732 - accuracy: 0.8715 - val_loss: 0.6298 - val_accuracy: 0.7979\n",
      "Epoch 43/50\n",
      "50000/50000 [==============================] - 10s 206us/step - loss: 0.3843 - accuracy: 0.8672 - val_loss: 0.6385 - val_accuracy: 0.8004\n",
      "Epoch 44/50\n",
      "50000/50000 [==============================] - 10s 197us/step - loss: 0.3783 - accuracy: 0.8691 - val_loss: 0.6462 - val_accuracy: 0.8014\n",
      "Epoch 45/50\n",
      "50000/50000 [==============================] - 10s 204us/step - loss: 0.3713 - accuracy: 0.8719 - val_loss: 0.6569 - val_accuracy: 0.7928\n",
      "Epoch 46/50\n",
      "50000/50000 [==============================] - 10s 203us/step - loss: 0.3682 - accuracy: 0.8742 - val_loss: 0.6387 - val_accuracy: 0.8042\n",
      "Epoch 47/50\n",
      "50000/50000 [==============================] - 10s 198us/step - loss: 0.3714 - accuracy: 0.8707 - val_loss: 0.6239 - val_accuracy: 0.8006\n",
      "Epoch 48/50\n",
      "50000/50000 [==============================] - 10s 200us/step - loss: 0.3717 - accuracy: 0.8724 - val_loss: 0.6628 - val_accuracy: 0.7963\n",
      "Epoch 49/50\n",
      "50000/50000 [==============================] - 10s 197us/step - loss: 0.3696 - accuracy: 0.8733 - val_loss: 0.6316 - val_accuracy: 0.8032\n",
      "Epoch 50/50\n",
      "50000/50000 [==============================] - 10s 202us/step - loss: 0.3629 - accuracy: 0.8777 - val_loss: 0.6331 - val_accuracy: 0.8012\n"
     ]
    },
    {
     "data": {
      "text/plain": [
       "'\\n   第四步：訓練\\n   .fit的一些參數\\n   batch_size：對總的樣本數進行分組，每組包含的樣本數量\\n   epochs ：訓練次數\\n   shuffle：是否把數據隨機打亂之後再進行訓練\\n   validation_split：拿出百分之多少用來做交叉驗證\\n   verbose：屏顯模式 - 0：不輸出, 1：輸出進度, 2：輸出每次的訓練結果\\n'"
      ]
     },
     "execution_count": 10,
     "metadata": {},
     "output_type": "execute_result"
    }
   ],
   "source": [
    "# 是否要做資料處理\n",
    "if not data_augmentation:\n",
    "    print('Not using data augmentation.')\n",
    "    history=model.fit(x_train, y_train,\n",
    "              batch_size=batch_size,\n",
    "              epochs=epochs,\n",
    "              validation_data=(x_test, y_test),\n",
    "              shuffle=True)\n",
    "else:\n",
    "    print('Using real-time data augmentation.')\n",
    "    print('')\n",
    "        \n",
    "    # This will do preprocessing and realtime data augmentation:\n",
    "    datagen = ImageDataGenerator(\n",
    "        featurewise_center=False,  # set input mean to 0 over the dataset\n",
    "        samplewise_center=False,  # set each sample mean to 0\n",
    "        featurewise_std_normalization=False,  # divide inputs by std of the dataset\n",
    "        samplewise_std_normalization=False,  # divide each input by its std\n",
    "        zca_whitening=False,  # apply ZCA whitening\n",
    "        zca_epsilon=1e-06,  # epsilon for ZCA whitening\n",
    "        rotation_range=0,  # randomly rotate images in the range (degrees, 0 to 180)\n",
    "        # randomly shift images horizontally (fraction of total width)\n",
    "        width_shift_range=0.1,\n",
    "        # randomly shift images vertically (fraction of total height)\n",
    "        height_shift_range=0.1,\n",
    "        shear_range=0.,  # set range for random shear\n",
    "        zoom_range=0.,  # set range for random zoom\n",
    "        channel_shift_range=0.,  # set range for random channel shifts\n",
    "        # set mode for filling points outside the input boundaries\n",
    "        fill_mode='nearest',\n",
    "        cval=0.,  # value used for fill_mode = \"constant\"\n",
    "        horizontal_flip=True,  # randomly flip images\n",
    "        vertical_flip=False,  # randomly flip images\n",
    "        # set rescaling factor (applied before any other transformation)\n",
    "        rescale=None,\n",
    "        # set function that will be applied on each input\n",
    "        preprocessing_function=None,\n",
    "        # image data format, either \"channels_first\" or \"channels_last\"\n",
    "        data_format=None,\n",
    "        # fraction of images reserved for validation (strictly between 0 and 1)\n",
    "        validation_split=0.0)\n",
    "\n",
    "    # Compute quantities required for feature-wise normalization\n",
    "    # (std, mean, and principal components if ZCA whitening is applied).\n",
    "    datagen.fit(x_train)\n",
    "    history=model.fit(x_train, y_train,\n",
    "              batch_size=batch_size,\n",
    "              epochs=epochs,\n",
    "              validation_data=(x_test, y_test),\n",
    "              shuffle=True)   \n",
    "\n",
    "'''\n",
    "   第四步：訓練\n",
    "   .fit的一些參數\n",
    "   batch_size：對總的樣本數進行分組，每組包含的樣本數量\n",
    "   epochs ：訓練次數\n",
    "   shuffle：是否把數據隨機打亂之後再進行訓練\n",
    "   validation_split：拿出百分之多少用來做交叉驗證\n",
    "   verbose：屏顯模式 - 0：不輸出, 1：輸出進度, 2：輸出每次的訓練結果\n",
    "''' \n",
    "    "
   ]
  },
  {
   "cell_type": "code",
   "execution_count": 11,
   "metadata": {},
   "outputs": [
    {
     "name": "stdout",
     "output_type": "stream",
     "text": [
      "Saved trained model at /home/ziv/code/ML100/saved_models/keras_cifar10_trained_model.h5 \n",
      "10000/10000 [==============================] - 1s 115us/step\n",
      "Test loss: 0.6331464603424072\n",
      "Test accuracy: 0.8011999726295471\n"
     ]
    }
   ],
   "source": [
    "# Save model and weights\n",
    "if not os.path.isdir(save_dir):\n",
    "    os.makedirs(save_dir)\n",
    "model_path = os.path.join(save_dir, model_name)\n",
    "model.save(model_path)\n",
    "print('Saved trained model at %s ' % model_path)\n",
    "\n",
    "# Score trained model.\n",
    "scores = model.evaluate(x_test, y_test, verbose=1)\n",
    "print('Test loss:', scores[0])\n",
    "print('Test accuracy:', scores[1])"
   ]
  },
  {
   "cell_type": "code",
   "execution_count": 12,
   "metadata": {},
   "outputs": [
    {
     "name": "stdout",
     "output_type": "stream",
     "text": [
      " test set \n",
      "\n",
      " The test loss is %f  [0.6331464636325836, 0.8011999726295471]\n"
     ]
    }
   ],
   "source": [
    "#    第六步：輸出\n",
    "import numpy \n",
    "\n",
    "print ( \" test set \" )\n",
    "scores = model.evaluate(x_test,y_test,batch_size=200,verbose= 0)\n",
    "print ( \"\" )\n",
    "#print ( \" The test loss is %f \" % scores)\n",
    "print ( \" The test loss is %f \", scores)\n",
    "\n",
    "\n",
    "result = model.predict(x_test,batch_size=200,verbose= 0)\n",
    "\n",
    "result_max = numpy.argmax(result, axis = 1 )\n",
    "test_max = numpy.argmax(y_test, axis = 1 )\n",
    "\n",
    "result_bool = numpy.equal(result_max, test_max)\n",
    "true_num = numpy.sum(result_bool)"
   ]
  },
  {
   "cell_type": "code",
   "execution_count": 13,
   "metadata": {},
   "outputs": [
    {
     "data": {
      "image/png": "[encoded data removed]",
      "text/plain": [
       "<Figure size 432x288 with 1 Axes>"
      ]
     },
     "metadata": {
      "needs_background": "light"
     },
     "output_type": "display_data"
    },
    {
     "data": {
      "image/png": "[encoded data removed]",
      "text/plain": [
       "<Figure size 432x288 with 1 Axes>"
      ]
     },
     "metadata": {
      "needs_background": "light"
     },
     "output_type": "display_data"
    }
   ],
   "source": [
    "import matplotlib.pyplot as plt\n",
    "%matplotlib inline\n",
    "\n",
    "# Plot training & validation accuracy values\n",
    "plt.plot(history.history['accuracy'])\n",
    "plt.plot(history.history['val_accuracy'])\n",
    "plt.title('Model accuracy')\n",
    "plt.ylabel('Accuracy')\n",
    "plt.xlabel('Epoch')\n",
    "plt.legend(['Train', 'Valiidation'], loc='upper left')\n",
    "plt.show()\n",
    "\n",
    "# Plot training & validation loss values\n",
    "plt.plot(history.history['loss'])\n",
    "plt.plot(history.history['val_loss'])\n",
    "plt.title('Model loss')\n",
    "plt.ylabel('Loss')\n",
    "plt.xlabel('Epoch')\n",
    "plt.legend(['Train', 'Valiidation'], loc='upper left')\n",
    "plt.show()"
   ]
  },
  {
   "cell_type": "code",
   "execution_count": null,
   "metadata": {},
   "outputs": [],
   "source": []
  }
 ],
 "metadata": {
  "kernelspec": {
   "display_name": "Python 3",
   "language": "python",
   "name": "python3"
  },
  "language_info": {
   "codemirror_mode": {
    "name": "ipython",
    "version": 3
   },
   "file_extension": ".py",
   "mimetype": "text/x-python",
   "name": "python",
   "nbconvert_exporter": "python",
   "pygments_lexer": "ipython3",
   "version": "3.7.3"
  }
 },
 "nbformat": 4,
 "nbformat_minor": 2
}
