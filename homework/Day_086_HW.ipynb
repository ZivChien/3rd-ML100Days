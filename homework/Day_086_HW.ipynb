{
 "cells": [
  {
   "cell_type": "markdown",
   "metadata": {},
   "source": [
    "## Work\n",
    "1. 試比較 save_best_only 與否的差異\n",
    "2. 請僅存入將 save_weights_only 設定為 True, 並嘗試 reset ipynb 並將模型與權重重新建回並預測 x_test"
   ]
  },
  {
   "cell_type": "code",
   "execution_count": 1,
   "metadata": {},
   "outputs": [
    {
     "name": "stderr",
     "output_type": "stream",
     "text": [
      "Using TensorFlow backend.\n"
     ]
    }
   ],
   "source": [
    "import os\n",
    "import keras\n",
    "\n",
    "# Disable GPU\n",
    "os.environ[\"CUDA_VISIBLE_DEVICES\"] = \"0\""
   ]
  },
  {
   "cell_type": "code",
   "execution_count": 2,
   "metadata": {},
   "outputs": [],
   "source": [
    "train, test = keras.datasets.cifar10.load_data()"
   ]
  },
  {
   "cell_type": "code",
   "execution_count": 3,
   "metadata": {},
   "outputs": [],
   "source": [
    "## 資料前處理\n",
    "def preproc_x(x, flatten=True):\n",
    "    x = x / 255.\n",
    "    if flatten:\n",
    "        x = x.reshape((len(x), -1))\n",
    "    return x\n",
    "\n",
    "def preproc_y(y, num_classes=10):\n",
    "    if y.shape[-1] == 1:\n",
    "        y = keras.utils.to_categorical(y, num_classes)\n",
    "    return y    "
   ]
  },
  {
   "cell_type": "code",
   "execution_count": 4,
   "metadata": {},
   "outputs": [],
   "source": [
    "x_train, y_train = train\n",
    "x_test, y_test = test\n",
    "\n",
    "# Preproc the inputs\n",
    "x_train = preproc_x(x_train)\n",
    "x_test = preproc_x(x_test)\n",
    "\n",
    "# Preprc the outputs\n",
    "y_train = preproc_y(y_train)\n",
    "y_test = preproc_y(y_test)"
   ]
  },
  {
   "cell_type": "code",
   "execution_count": 5,
   "metadata": {},
   "outputs": [],
   "source": [
    "from keras.layers import BatchNormalization\n",
    "\n",
    "def build_mlp(input_shape, output_units=10, num_neurons=[512, 256, 128]):\n",
    "    \"\"\"Code Here\n",
    "    建立你的神經網路\n",
    "    \"\"\"\n",
    "    input_layer = keras.layers.Input(input_shape)\n",
    "    \n",
    "    for i, n_units in enumerate(num_neurons):\n",
    "        if i == 0:\n",
    "            x = keras.layers.Dense(units=n_units, \n",
    "                                   activation=\"relu\", \n",
    "                                   name=\"hidden_layer\"+str(i+1))(input_layer)\n",
    "            x = BatchNormalization()(x)\n",
    "        else:\n",
    "            x = keras.layers.Dense(units=n_units, \n",
    "                                   activation=\"relu\", \n",
    "                                   name=\"hidden_layer\"+str(i+1))(x)\n",
    "            x = BatchNormalization()(x)\n",
    "    \n",
    "    out = keras.layers.Dense(units=output_units, activation=\"softmax\", name=\"output\")(x)\n",
    "    \n",
    "    model = keras.models.Model(inputs=[input_layer], outputs=[out])\n",
    "    return model"
   ]
  },
  {
   "cell_type": "code",
   "execution_count": 6,
   "metadata": {},
   "outputs": [],
   "source": [
    "\"\"\"Code Here\n",
    "設定超參數\n",
    "\"\"\"\n",
    "LEARNING_RATE = 1e-3\n",
    "EPOCHS = 50\n",
    "BATCH_SIZE = 1024\n",
    "MOMENTUM = 0.95"
   ]
  },
  {
   "cell_type": "markdown",
   "metadata": {},
   "source": [
    "### 試比較 save_best_only 與否的差異\n",
    "### 請僅存入將 save_weights_only 設定為 True, 並嘗試 reset ipynb 並將模型與權重重新建回並預測 x_test"
   ]
  },
  {
   "cell_type": "code",
   "execution_count": 7,
   "metadata": {},
   "outputs": [],
   "source": [
    "# 載入 Callbacks\n",
    "\"\"\"Code Here\n",
    "設定 callbacks: model checkpoint\n",
    "\"\"\"\n",
    "from keras.callbacks import ModelCheckpoint\n",
    "\n",
    "model_ckpt = ModelCheckpoint(filepath=\"./tmp.h5\", \n",
    "                             monitor=\"val_loss\", \n",
    "                             save_weights_only=True,\n",
    "                             save_best_only=False)"
   ]
  },
  {
   "cell_type": "code",
   "execution_count": 8,
   "metadata": {
    "scrolled": true
   },
   "outputs": [
    {
     "name": "stdout",
     "output_type": "stream",
     "text": [
      "Model: \"model_1\"\n",
      "_________________________________________________________________\n",
      "Layer (type)                 Output Shape              Param #   \n",
      "=================================================================\n",
      "input_1 (InputLayer)         (None, 3072)              0         \n",
      "_________________________________________________________________\n",
      "hidden_layer1 (Dense)        (None, 512)               1573376   \n",
      "_________________________________________________________________\n",
      "batch_normalization_1 (Batch (None, 512)               2048      \n",
      "_________________________________________________________________\n",
      "hidden_layer2 (Dense)        (None, 256)               131328    \n",
      "_________________________________________________________________\n",
      "batch_normalization_2 (Batch (None, 256)               1024      \n",
      "_________________________________________________________________\n",
      "hidden_layer3 (Dense)        (None, 128)               32896     \n",
      "_________________________________________________________________\n",
      "batch_normalization_3 (Batch (None, 128)               512       \n",
      "_________________________________________________________________\n",
      "output (Dense)               (None, 10)                1290      \n",
      "=================================================================\n",
      "Total params: 1,742,474\n",
      "Trainable params: 1,740,682\n",
      "Non-trainable params: 1,792\n",
      "_________________________________________________________________\n",
      "Train on 50000 samples, validate on 10000 samples\n",
      "Epoch 1/50\n",
      "50000/50000 [==============================] - 2s 38us/step - loss: 2.2072 - accuracy: 0.2671 - val_loss: 2.1157 - val_accuracy: 0.2214\n",
      "Epoch 2/50\n",
      "50000/50000 [==============================] - 1s 20us/step - loss: 1.7470 - accuracy: 0.3885 - val_loss: 1.9719 - val_accuracy: 0.2993\n",
      "Epoch 3/50\n",
      "50000/50000 [==============================] - 1s 19us/step - loss: 1.6242 - accuracy: 0.4301 - val_loss: 1.8426 - val_accuracy: 0.3552\n",
      "Epoch 4/50\n",
      "50000/50000 [==============================] - 1s 20us/step - loss: 1.5510 - accuracy: 0.4561 - val_loss: 1.7292 - val_accuracy: 0.4009\n",
      "Epoch 5/50\n",
      "50000/50000 [==============================] - 1s 19us/step - loss: 1.4966 - accuracy: 0.4758 - val_loss: 1.6536 - val_accuracy: 0.4297\n",
      "Epoch 6/50\n",
      "50000/50000 [==============================] - 1s 19us/step - loss: 1.4506 - accuracy: 0.4929 - val_loss: 1.6047 - val_accuracy: 0.4369\n",
      "Epoch 7/50\n",
      "50000/50000 [==============================] - 1s 20us/step - loss: 1.4113 - accuracy: 0.5056 - val_loss: 1.5624 - val_accuracy: 0.4495\n",
      "Epoch 8/50\n",
      "50000/50000 [==============================] - 1s 19us/step - loss: 1.3751 - accuracy: 0.5205 - val_loss: 1.5421 - val_accuracy: 0.4560\n",
      "Epoch 9/50\n",
      "50000/50000 [==============================] - 1s 19us/step - loss: 1.3409 - accuracy: 0.5305 - val_loss: 1.5050 - val_accuracy: 0.4670\n",
      "Epoch 10/50\n",
      "50000/50000 [==============================] - 1s 20us/step - loss: 1.3105 - accuracy: 0.5437 - val_loss: 1.5009 - val_accuracy: 0.4720\n",
      "Epoch 11/50\n",
      "50000/50000 [==============================] - 1s 21us/step - loss: 1.2816 - accuracy: 0.5550 - val_loss: 1.4843 - val_accuracy: 0.4753\n",
      "Epoch 12/50\n",
      "50000/50000 [==============================] - 1s 21us/step - loss: 1.2535 - accuracy: 0.5645 - val_loss: 1.4725 - val_accuracy: 0.4776\n",
      "Epoch 13/50\n",
      "50000/50000 [==============================] - 1s 20us/step - loss: 1.2269 - accuracy: 0.5761 - val_loss: 1.4674 - val_accuracy: 0.4814\n",
      "Epoch 14/50\n",
      "50000/50000 [==============================] - 1s 19us/step - loss: 1.2007 - accuracy: 0.5867 - val_loss: 1.4605 - val_accuracy: 0.4841\n",
      "Epoch 15/50\n",
      "50000/50000 [==============================] - 1s 20us/step - loss: 1.1763 - accuracy: 0.5943 - val_loss: 1.4597 - val_accuracy: 0.4870\n",
      "Epoch 16/50\n",
      "50000/50000 [==============================] - 1s 20us/step - loss: 1.1531 - accuracy: 0.6022 - val_loss: 1.4640 - val_accuracy: 0.4828\n",
      "Epoch 17/50\n",
      "50000/50000 [==============================] - 1s 21us/step - loss: 1.1303 - accuracy: 0.6119 - val_loss: 1.4650 - val_accuracy: 0.4859\n",
      "Epoch 18/50\n",
      "50000/50000 [==============================] - 1s 20us/step - loss: 1.1059 - accuracy: 0.6212 - val_loss: 1.4508 - val_accuracy: 0.4871\n",
      "Epoch 19/50\n",
      "50000/50000 [==============================] - 1s 19us/step - loss: 1.0814 - accuracy: 0.6298 - val_loss: 1.4457 - val_accuracy: 0.4983\n",
      "Epoch 20/50\n",
      "50000/50000 [==============================] - 1s 20us/step - loss: 1.0598 - accuracy: 0.6389 - val_loss: 1.4547 - val_accuracy: 0.4947\n",
      "Epoch 21/50\n",
      "50000/50000 [==============================] - 1s 20us/step - loss: 1.0387 - accuracy: 0.6471 - val_loss: 1.4519 - val_accuracy: 0.4959\n",
      "Epoch 22/50\n",
      "50000/50000 [==============================] - 1s 20us/step - loss: 1.0171 - accuracy: 0.6552 - val_loss: 1.4552 - val_accuracy: 0.4879\n",
      "Epoch 23/50\n",
      "50000/50000 [==============================] - 1s 19us/step - loss: 0.9959 - accuracy: 0.6634 - val_loss: 1.4617 - val_accuracy: 0.4935\n",
      "Epoch 24/50\n",
      "50000/50000 [==============================] - 1s 20us/step - loss: 0.9748 - accuracy: 0.6728 - val_loss: 1.4552 - val_accuracy: 0.4976\n",
      "Epoch 25/50\n",
      "50000/50000 [==============================] - 1s 19us/step - loss: 0.9530 - accuracy: 0.6812 - val_loss: 1.4612 - val_accuracy: 0.4959\n",
      "Epoch 26/50\n",
      "50000/50000 [==============================] - 1s 19us/step - loss: 0.9326 - accuracy: 0.6892 - val_loss: 1.4620 - val_accuracy: 0.4931\n",
      "Epoch 27/50\n",
      "50000/50000 [==============================] - 1s 19us/step - loss: 0.9085 - accuracy: 0.6965 - val_loss: 1.4663 - val_accuracy: 0.4988\n",
      "Epoch 28/50\n",
      "50000/50000 [==============================] - 1s 19us/step - loss: 0.8895 - accuracy: 0.7053 - val_loss: 1.4678 - val_accuracy: 0.5006\n",
      "Epoch 29/50\n",
      "50000/50000 [==============================] - 1s 19us/step - loss: 0.8688 - accuracy: 0.7134 - val_loss: 1.4847 - val_accuracy: 0.4945\n",
      "Epoch 30/50\n",
      "50000/50000 [==============================] - 1s 20us/step - loss: 0.8489 - accuracy: 0.7213 - val_loss: 1.4764 - val_accuracy: 0.4956\n",
      "Epoch 31/50\n",
      "50000/50000 [==============================] - 1s 20us/step - loss: 0.8256 - accuracy: 0.7300 - val_loss: 1.4758 - val_accuracy: 0.5013\n",
      "Epoch 32/50\n",
      "50000/50000 [==============================] - 1s 20us/step - loss: 0.8076 - accuracy: 0.7371 - val_loss: 1.4896 - val_accuracy: 0.4967\n",
      "Epoch 33/50\n",
      "50000/50000 [==============================] - 1s 21us/step - loss: 0.7891 - accuracy: 0.7451 - val_loss: 1.4940 - val_accuracy: 0.4991\n",
      "Epoch 34/50\n",
      "50000/50000 [==============================] - 1s 20us/step - loss: 0.7681 - accuracy: 0.7524 - val_loss: 1.5042 - val_accuracy: 0.4957\n",
      "Epoch 35/50\n",
      "50000/50000 [==============================] - 1s 19us/step - loss: 0.7479 - accuracy: 0.7609 - val_loss: 1.5158 - val_accuracy: 0.4978\n",
      "Epoch 36/50\n",
      "50000/50000 [==============================] - 1s 22us/step - loss: 0.7303 - accuracy: 0.7693 - val_loss: 1.5317 - val_accuracy: 0.4937\n",
      "Epoch 37/50\n",
      "50000/50000 [==============================] - 1s 21us/step - loss: 0.7095 - accuracy: 0.7765 - val_loss: 1.5709 - val_accuracy: 0.4810\n",
      "Epoch 38/50\n",
      "50000/50000 [==============================] - 1s 20us/step - loss: 0.6925 - accuracy: 0.7821 - val_loss: 1.5492 - val_accuracy: 0.4948\n",
      "Epoch 39/50\n",
      "50000/50000 [==============================] - 1s 20us/step - loss: 0.6719 - accuracy: 0.7914 - val_loss: 1.5475 - val_accuracy: 0.4963\n",
      "Epoch 40/50\n",
      "50000/50000 [==============================] - 1s 20us/step - loss: 0.6509 - accuracy: 0.8004 - val_loss: 1.5586 - val_accuracy: 0.5005\n",
      "Epoch 41/50\n",
      "50000/50000 [==============================] - 1s 20us/step - loss: 0.6335 - accuracy: 0.8066 - val_loss: 1.5641 - val_accuracy: 0.4968\n",
      "Epoch 42/50\n",
      "50000/50000 [==============================] - 1s 20us/step - loss: 0.6141 - accuracy: 0.8159 - val_loss: 1.5813 - val_accuracy: 0.4965\n",
      "Epoch 43/50\n",
      "50000/50000 [==============================] - 1s 19us/step - loss: 0.5977 - accuracy: 0.8201 - val_loss: 1.5902 - val_accuracy: 0.4938\n",
      "Epoch 44/50\n",
      "50000/50000 [==============================] - 1s 20us/step - loss: 0.5776 - accuracy: 0.8285 - val_loss: 1.5933 - val_accuracy: 0.5010\n",
      "Epoch 45/50\n",
      "50000/50000 [==============================] - 1s 19us/step - loss: 0.5595 - accuracy: 0.8369 - val_loss: 1.6246 - val_accuracy: 0.4922\n",
      "Epoch 46/50\n"
     ]
    },
    {
     "name": "stdout",
     "output_type": "stream",
     "text": [
      "50000/50000 [==============================] - 1s 19us/step - loss: 0.5453 - accuracy: 0.8418 - val_loss: 1.6160 - val_accuracy: 0.5014\n",
      "Epoch 47/50\n",
      "50000/50000 [==============================] - 1s 20us/step - loss: 0.5257 - accuracy: 0.8506 - val_loss: 1.6480 - val_accuracy: 0.4921\n",
      "Epoch 48/50\n",
      "50000/50000 [==============================] - 1s 19us/step - loss: 0.5079 - accuracy: 0.8582 - val_loss: 1.6601 - val_accuracy: 0.4895\n",
      "Epoch 49/50\n",
      "50000/50000 [==============================] - 1s 19us/step - loss: 0.4930 - accuracy: 0.8628 - val_loss: 1.6629 - val_accuracy: 0.4942\n",
      "Epoch 50/50\n",
      "50000/50000 [==============================] - 1s 19us/step - loss: 0.4754 - accuracy: 0.8704 - val_loss: 1.6825 - val_accuracy: 0.4937\n"
     ]
    },
    {
     "data": {
      "text/plain": [
       "<keras.callbacks.callbacks.History at 0x7f84c0082128>"
      ]
     },
     "execution_count": 8,
     "metadata": {},
     "output_type": "execute_result"
    }
   ],
   "source": [
    "#results = {}\n",
    "\"\"\"Code Here\n",
    "撰寫你的訓練流程並將結果用 dictionary 紀錄\n",
    "\"\"\"\n",
    "model = build_mlp(input_shape=x_train.shape[1:])\n",
    "model.summary()\n",
    "optimizer = keras.optimizers.SGD(lr=LEARNING_RATE, nesterov=True, momentum=MOMENTUM)\n",
    "model.compile(loss=\"categorical_crossentropy\", metrics=[\"accuracy\"], optimizer=optimizer)\n",
    "\n",
    "model.fit(x_train, y_train, \n",
    "          epochs=EPOCHS, \n",
    "          batch_size=BATCH_SIZE, \n",
    "          validation_data=(x_test, y_test), \n",
    "          shuffle=True,\n",
    "          callbacks=[model_ckpt]\n",
    "         )"
   ]
  },
  {
   "cell_type": "code",
   "execution_count": 9,
   "metadata": {},
   "outputs": [],
   "source": [
    "# Collect results\n",
    "train_loss = model.history.history[\"loss\"]\n",
    "valid_loss = model.history.history[\"val_loss\"]\n",
    "train_acc = model.history.history[\"accuracy\"]\n",
    "valid_acc = model.history.history[\"val_accuracy\"]"
   ]
  },
  {
   "cell_type": "code",
   "execution_count": 10,
   "metadata": {},
   "outputs": [
    {
     "name": "stdout",
     "output_type": "stream",
     "text": [
      "10000/10000 [==============================] - 1s 68us/step\n"
     ]
    }
   ],
   "source": [
    "loss_loadback, acc_loadback = model.evaluate(x_test, y_test)"
   ]
  },
  {
   "cell_type": "code",
   "execution_count": 11,
   "metadata": {},
   "outputs": [
    {
     "data": {
      "image/png": "[encoded data removed]",
      "text/plain": [
       "<Figure size 432x288 with 1 Axes>"
      ]
     },
     "metadata": {
      "needs_background": "light"
     },
     "output_type": "display_data"
    },
    {
     "data": {
      "image/png": "[encoded data removed]",
      "text/plain": [
       "<Figure size 432x288 with 1 Axes>"
      ]
     },
     "metadata": {
      "needs_background": "light"
     },
     "output_type": "display_data"
    }
   ],
   "source": [
    "import matplotlib.pyplot as plt\n",
    "%matplotlib inline\n",
    "\"\"\"Code Here\n",
    "將結果繪出\n",
    "\"\"\"\n",
    "plt.plot(range(len(train_loss)), train_loss, label=\"train loss\")\n",
    "plt.plot(range(len(valid_loss)), valid_loss, label=\"valid loss\")\n",
    "plt.hlines(y=loss_loadback, xmin=0, xmax=len(train_loss), colors='r', linestyles='--')\n",
    "plt.legend()\n",
    "plt.title(\"Loss\")\n",
    "plt.show()\n",
    "\n",
    "plt.plot(range(len(train_acc)), train_acc, label=\"train accuracy\")\n",
    "plt.plot(range(len(valid_acc)), valid_acc, label=\"valid accuracy\")\n",
    "plt.hlines(y=acc_loadback, xmin=0, xmax=len(train_loss), colors='r', linestyles='--')\n",
    "plt.legend()\n",
    "plt.title(\"Accuracy\")\n",
    "plt.show()"
   ]
  },
  {
   "cell_type": "markdown",
   "metadata": {},
   "source": [
    "## reset ipynb 並將模型與權重重新建回並預測 x_test"
   ]
  },
  {
   "cell_type": "code",
   "execution_count": 1,
   "metadata": {},
   "outputs": [
    {
     "name": "stderr",
     "output_type": "stream",
     "text": [
      "Using TensorFlow backend.\n"
     ]
    }
   ],
   "source": [
    "import os\n",
    "import keras\n",
    "\n",
    "# Disable GPU\n",
    "os.environ[\"CUDA_VISIBLE_DEVICES\"] = \"0\""
   ]
  },
  {
   "cell_type": "code",
   "execution_count": 2,
   "metadata": {},
   "outputs": [],
   "source": [
    "train, test = keras.datasets.cifar10.load_data()"
   ]
  },
  {
   "cell_type": "code",
   "execution_count": 3,
   "metadata": {},
   "outputs": [],
   "source": [
    "## 資料前處理\n",
    "def preproc_x(x, flatten=True):\n",
    "    x = x / 255.\n",
    "    if flatten:\n",
    "        x = x.reshape((len(x), -1))\n",
    "    return x\n",
    "\n",
    "def preproc_y(y, num_classes=10):\n",
    "    if y.shape[-1] == 1:\n",
    "        y = keras.utils.to_categorical(y, num_classes)\n",
    "    return y  "
   ]
  },
  {
   "cell_type": "code",
   "execution_count": 4,
   "metadata": {},
   "outputs": [],
   "source": [
    "x_train, y_train = train\n",
    "x_test, y_test = test\n",
    "\n",
    "# Preproc the inputs\n",
    "x_train = preproc_x(x_train)\n",
    "x_test = preproc_x(x_test)\n",
    "\n",
    "# Preprc the outputs\n",
    "y_train = preproc_y(y_train)\n",
    "y_test = preproc_y(y_test)"
   ]
  },
  {
   "cell_type": "code",
   "execution_count": 5,
   "metadata": {},
   "outputs": [],
   "source": [
    "from keras.layers import BatchNormalization\n",
    "\n",
    "def build_mlp(input_shape, output_units=10, num_neurons=[512, 256, 128]):\n",
    "    \"\"\"Code Here\n",
    "    建立你的神經網路\n",
    "    \"\"\"\n",
    "    input_layer = keras.layers.Input(input_shape)\n",
    "    \n",
    "    for i, n_units in enumerate(num_neurons):\n",
    "        if i == 0:\n",
    "            x = keras.layers.Dense(units=n_units, \n",
    "                                   activation=\"relu\", \n",
    "                                   name=\"hidden_layer\"+str(i+1))(input_layer)\n",
    "            x = BatchNormalization()(x)\n",
    "        else:\n",
    "            x = keras.layers.Dense(units=n_units, \n",
    "                                   activation=\"relu\", \n",
    "                                   name=\"hidden_layer\"+str(i+1))(x)\n",
    "            x = BatchNormalization()(x)\n",
    "    \n",
    "    out = keras.layers.Dense(units=output_units, activation=\"softmax\", name=\"output\")(x)\n",
    "    \n",
    "    model = keras.models.Model(inputs=[input_layer], outputs=[out])\n",
    "    return model"
   ]
  },
  {
   "cell_type": "code",
   "execution_count": 6,
   "metadata": {},
   "outputs": [],
   "source": [
    "LEARNING_RATE = 1e-3\n",
    "EPOCHS = 50\n",
    "BATCH_SIZE = 1024\n",
    "MOMENTUM = 0.95"
   ]
  },
  {
   "cell_type": "code",
   "execution_count": 7,
   "metadata": {},
   "outputs": [],
   "source": [
    "model = build_mlp(input_shape=x_train.shape[1:])\n",
    "optimizer = keras.optimizers.SGD(lr=LEARNING_RATE, nesterov=True, momentum=MOMENTUM)\n",
    "model.compile(loss=\"categorical_crossentropy\", metrics=[\"accuracy\"], optimizer=optimizer)"
   ]
  },
  {
   "cell_type": "code",
   "execution_count": 8,
   "metadata": {},
   "outputs": [
    {
     "name": "stdout",
     "output_type": "stream",
     "text": [
      "10000/10000 [==============================] - 1s 96us/step\n"
     ]
    }
   ],
   "source": [
    "# Load back\n",
    "#model = keras.models.load_model(\"./tmp.h5\")\n",
    "\n",
    "model.load_weights('./tmp.h5')\n",
    "loss_loadback, acc_loadback = model.evaluate(x_test, y_test)"
   ]
  },
  {
   "cell_type": "code",
   "execution_count": 9,
   "metadata": {
    "scrolled": true
   },
   "outputs": [
    {
     "name": "stdout",
     "output_type": "stream",
     "text": [
      "loss_loadback 1.6824791465759277 \n",
      "\n",
      "acc_loadback 0.4936999976634979 \n",
      "\n"
     ]
    }
   ],
   "source": [
    "print(\"loss_loadback\", loss_loadback, \"\\n\")\n",
    "print(\"acc_loadback\", acc_loadback, \"\\n\")"
   ]
  },
  {
   "cell_type": "code",
   "execution_count": null,
   "metadata": {},
   "outputs": [],
   "source": []
  }
 ],
 "metadata": {
  "kernelspec": {
   "display_name": "Python 3",
   "language": "python",
   "name": "python3"
  },
  "language_info": {
   "codemirror_mode": {
    "name": "ipython",
    "version": 3
   },
   "file_extension": ".py",
   "mimetype": "text/x-python",
   "name": "python",
   "nbconvert_exporter": "python",
   "pygments_lexer": "ipython3",
   "version": "3.7.3"
  }
 },
 "nbformat": 4,
 "nbformat_minor": 2
}
