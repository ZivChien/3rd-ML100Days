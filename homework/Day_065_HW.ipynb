{
 "cells": [
  {
   "cell_type": "markdown",
   "metadata": {},
   "source": [
    "# 作業\n",
    "* 選擇分類資料集(右下)-螺旋雙臂 - 交錯六群，限定特徵只能使用前兩個，隱藏層 2 層滿 (共 8 * 2 =16 個神經元)，  \n",
    "  遞迴次數只允許跑到500次，但可以自由調整 批次大小、學習速率、啟動函數、正規化選項與參數\n",
    "* 在上述限制下，挑戰看看測試誤差 (Test Loss) 最低能到多少? 請回答你的上述幾項參數與 Test Loss 數"
   ]
  },
  {
   "cell_type": "markdown",
   "metadata": {
    "collapsed": true
   },
   "source": [
    "| Case | Hidden layer | No. NN | Batch size | Learning rate | Activation | Regularization | Regularization rate | Test loss |\n",
    "| ---     | --- | --- | --- | --- | ---   |  --- |   --- |   --- |\n",
    "| Ex-p4   | 1 |    {8} | 10 | 0.03 | Tanh    | None |     0 | 0.085 |\n",
    "| Ex-p5.1 | 1 |    {8} | 10 |**0.3**| Tanh    | None |     0 | 0.102 |\n",
    "| Ex-p5.2 | 1 |    {8} | 10 |**1** | Tanh    | None |     0 | 0.541 |\n",
    "| Ex-p6.1 | 1 |    {8} | 10 |    1 |**Sigmoid**| None |     0 | 0.045 |\n",
    "| Ex-p6.2 | 1 |    {8} | 10 |    1 | **ReLU**| None |     0 | 0.349 |\n",
    "| Ex-p7.1 | 1 |    {8} | 10 |**0.3**| Tanh    |**L1**|     0 | 0.065 |\n",
    "| Ex-p7.2 | 1 |    {8} | 10 |  0.3 | Tanh    |**L2**|     0 | 0.033 |\n",
    "| Ex-p7.3 | 1 |    {8} | 10 |  0.3 | Tanh    |   L2 |**0.001**| 0.152 |\n",
    "| Ex-p7.4 | 1 |    {8} | 10 |  0.3 | Tanh    |**L1**| 0.001 | 0.058 |\n",
    "|       1 | 2 | {8, 8} | 10 |  0.3 | Tanh    |   L1 | 0.001 | 0.416 |\n",
    "|       2 | 2 | {8, 8} | 10 |**0.03**| Tanh    |   L1 | 0.001 | 0.463 |\n",
    "|       3 | 2 | {8, 8} | 10 | 0.03 |**Sigmoid**|   L1 | 0.001 | 0.489 |\n",
    "|       4 | 2 | {8, 8} | 10 | 0.03 | Sigmoid |**None**|     0 | 0.489 |\n",
    "|       5 | 2 | {8, 8} | 10 |**0.3**| Sigmoid | None |     0 | 0.463 |\n",
    "|       6 | 2 | {8, 8} | 10 |  0.3 |**ReLU** | None |     0 | 0.307 |\n",
    "|       7 | 2 | {8, 8} | 10 |**1** | ReLU    | None |     0 | 0.455 |\n",
    "|       8 | 2 | {8, 8} | 10 |**0.03**| ReLU    | None |     0 | 0.493 |\n",
    "|       9 | 2 | {8, 8} | 10 |  0.3 | ReLU    |**L1**|     0 | 0.139 |\n",
    "|      10 | 2 | {8, 8} | 10 |  0.3 | ReLU    |**L2**|     0 | 0.291 |\n",
    "|      11 | 2 | {8, 8} | 10 |  0.3 | ReLU    |   L1 |**0.001**| 0.319 |\n",
    "|      12 | 2 | {8, 8} | 10 |  0.3 | ReLU    |**None**| 0.001 | 0.714 |\n",
    "|      13 | 2 | {8, 8} | 10 |**0.03**| ReLU    |   L1 |     0 | 0.065 |\n",
    "|      14 | 2 | {8, 8} |**20**| 0.03 | ReLU    |   L1 |     0 | 0.488 |\n",
    "|-->**15**| 2 | {8, 8} |**5**| 0.03 | ReLU    |   L1 |     0 |**0.055**|\n",
    "\n",
    "> ANS: 0.055"
   ]
  },
  {
   "cell_type": "markdown",
   "metadata": {
    "collapsed": true
   },
   "source": []
  }
 ],
 "metadata": {
  "kernelspec": {
   "display_name": "Python 3",
   "language": "python",
   "name": "python3"
  },
  "language_info": {
   "codemirror_mode": {
    "name": "ipython",
    "version": 3
   },
   "file_extension": ".py",
   "mimetype": "text/x-python",
   "name": "python",
   "nbconvert_exporter": "python",
   "pygments_lexer": "ipython3",
   "version": "3.7.3"
  }
 },
 "nbformat": 4,
 "nbformat_minor": 2
}
