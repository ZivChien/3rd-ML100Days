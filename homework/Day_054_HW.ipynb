{
 "cells": [
  {
   "cell_type": "markdown",
   "metadata": {},
   "source": [
    "# 作業\n",
    "* 試著想想看, 非監督學習是否有可能使用評價函數 (Metric) 來鑑別好壞呢?  \n",
    "(Hint : 可以分為 \"有目標值\" 與 \"無目標值\" 兩個方向思考)"
   ]
  },
  {
   "cell_type": "markdown",
   "metadata": {
    "collapsed": true
   },
   "source": [
    "```與監督模型不同，非監督模型因為沒有label供參考，因此無法參考label來評估的預測與實際差距.```\n",
    "\n",
    "**評估⽅式類型**   \n",
    "\n",
    "* 分群（Clustering）\n",
    "在於找出比較相似的資料聚集在一起，形成Cluster而相似性的依據是採用「距離」，相對距離愈近、相似程度越高，被歸類至同一群組。     \n",
    "\n",
    "* 關聯規則探索\n",
    "資料一起出現的情況、來考量資料的相似性\n",
    "\n",
    "* 半監督學習\n",
    "在將資料分群的過程當中，先使用有標籤過的資料先切出一條分界線，再利用剩下無標籤資料的整體分布，調整出兩大類別的新分界。如此不但具有非監督\n",
    "式學習高自動化的優點，又能降低標籤資料的成本。"
   ]
  },
  {
   "cell_type": "code",
   "execution_count": null,
   "metadata": {},
   "outputs": [],
   "source": []
  }
 ],
 "metadata": {
  "kernelspec": {
   "display_name": "Python 3",
   "language": "python",
   "name": "python3"
  },
  "language_info": {
   "codemirror_mode": {
    "name": "ipython",
    "version": 3
   },
   "file_extension": ".py",
   "mimetype": "text/x-python",
   "name": "python",
   "nbconvert_exporter": "python",
   "pygments_lexer": "ipython3",
   "version": "3.7.3"
  }
 },
 "nbformat": 4,
 "nbformat_minor": 1
}
