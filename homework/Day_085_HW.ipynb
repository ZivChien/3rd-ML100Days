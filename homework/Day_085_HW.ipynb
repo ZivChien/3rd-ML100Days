{
 "cells": [
  {
   "cell_type": "markdown",
   "metadata": {},
   "source": [
    "## Work\n",
    "1. 試改變 monitor \"Validation Accuracy\" 並比較結果\n",
    "2. 調整 earlystop 的等待次數至 10, 25 並比較結果"
   ]
  },
  {
   "cell_type": "code",
   "execution_count": 1,
   "metadata": {},
   "outputs": [
    {
     "name": "stderr",
     "output_type": "stream",
     "text": [
      "Using TensorFlow backend.\n"
     ]
    }
   ],
   "source": [
    "import os\n",
    "import keras\n",
    "import matplotlib.pyplot as plt\n",
    "%matplotlib inline\n",
    "\n",
    "# Disable GPU\n",
    "os.environ[\"CUDA_VISIBLE_DEVICES\"] = \"0\""
   ]
  },
  {
   "cell_type": "code",
   "execution_count": 2,
   "metadata": {},
   "outputs": [],
   "source": [
    "train, test = keras.datasets.cifar10.load_data()"
   ]
  },
  {
   "cell_type": "code",
   "execution_count": 3,
   "metadata": {},
   "outputs": [],
   "source": [
    "## 資料前處理\n",
    "def preproc_x(x, flatten=True):\n",
    "    x = x / 255.\n",
    "    if flatten:\n",
    "        x = x.reshape((len(x), -1))\n",
    "    return x\n",
    "\n",
    "def preproc_y(y, num_classes=10):\n",
    "    if y.shape[-1] == 1:\n",
    "        y = keras.utils.to_categorical(y, num_classes)\n",
    "    return y    "
   ]
  },
  {
   "cell_type": "code",
   "execution_count": 4,
   "metadata": {},
   "outputs": [],
   "source": [
    "x_train, y_train = train\n",
    "x_test, y_test = test\n",
    "\n",
    "# Preproc the inputs\n",
    "x_train = preproc_x(x_train)\n",
    "x_test = preproc_x(x_test)\n",
    "\n",
    "# Preprc the outputs\n",
    "y_train = preproc_y(y_train)\n",
    "y_test = preproc_y(y_test)"
   ]
  },
  {
   "cell_type": "code",
   "execution_count": 5,
   "metadata": {},
   "outputs": [],
   "source": [
    "from keras.layers import BatchNormalization"
   ]
  },
  {
   "cell_type": "code",
   "execution_count": 6,
   "metadata": {},
   "outputs": [],
   "source": [
    "def build_mlp(input_shape, output_units=10, num_neurons=[512, 256, 128]):\n",
    "    \"\"\"Code Here\n",
    "    建立你的神經網路\n",
    "    \"\"\"\n",
    "    input_layer = keras.layers.Input(input_shape)\n",
    "    \n",
    "    for i, n_units in enumerate(num_neurons):\n",
    "        if i == 0:\n",
    "            x = keras.layers.Dense(units=n_units, \n",
    "                                   activation=\"relu\", \n",
    "                                   name=\"hidden_layer\"+str(i+1))(input_layer)\n",
    "            x = BatchNormalization()(x)\n",
    "        else:\n",
    "            x = keras.layers.Dense(units=n_units, \n",
    "                                   activation=\"relu\", \n",
    "                                   name=\"hidden_layer\"+str(i+1))(x)\n",
    "            x = BatchNormalization()(x)\n",
    "    \n",
    "    out = keras.layers.Dense(units=output_units, activation=\"softmax\", name=\"output\")(x)\n",
    "    \n",
    "    model = keras.models.Model(inputs=[input_layer], outputs=[out])\n",
    "    return model"
   ]
  },
  {
   "cell_type": "code",
   "execution_count": 7,
   "metadata": {},
   "outputs": [],
   "source": [
    "\"\"\"Code Here\n",
    "設定超參數\n",
    "\"\"\"\n",
    "LEARNING_RATE = 1e-3\n",
    "EPOCHS = 50\n",
    "BATCH_SIZE = 1024\n",
    "MOMENTUM = 0.95"
   ]
  },
  {
   "cell_type": "markdown",
   "metadata": {},
   "source": [
    "> 試改變 monitor \"Validation Accuracy\" 並比較結果   \n",
    "> 調整 earlystop 的等待次數至 10, 25 並比較結果   "
   ]
  },
  {
   "cell_type": "code",
   "execution_count": 8,
   "metadata": {},
   "outputs": [],
   "source": [
    "#MONITOR=[['val_accuracy'],['val_loss']]\n",
    "MONITOR=\"val_accuracy\"\n",
    "PATIENCE=[10,25]"
   ]
  },
  {
   "cell_type": "code",
   "execution_count": 9,
   "metadata": {},
   "outputs": [],
   "source": [
    "# 載入 Callbacks\n",
    "\"\"\"Code Here\n",
    "設定 callbacks: Earlystop\n",
    "\"\"\"\n",
    "from keras.callbacks import EarlyStopping"
   ]
  },
  {
   "cell_type": "code",
   "execution_count": 10,
   "metadata": {
    "scrolled": true
   },
   "outputs": [
    {
     "name": "stdout",
     "output_type": "stream",
     "text": [
      "Model: \"model_1\"\n",
      "_________________________________________________________________\n",
      "Layer (type)                 Output Shape              Param #   \n",
      "=================================================================\n",
      "input_1 (InputLayer)         (None, 3072)              0         \n",
      "_________________________________________________________________\n",
      "hidden_layer1 (Dense)        (None, 512)               1573376   \n",
      "_________________________________________________________________\n",
      "batch_normalization_1 (Batch (None, 512)               2048      \n",
      "_________________________________________________________________\n",
      "hidden_layer2 (Dense)        (None, 256)               131328    \n",
      "_________________________________________________________________\n",
      "batch_normalization_2 (Batch (None, 256)               1024      \n",
      "_________________________________________________________________\n",
      "hidden_layer3 (Dense)        (None, 128)               32896     \n",
      "_________________________________________________________________\n",
      "batch_normalization_3 (Batch (None, 128)               512       \n",
      "_________________________________________________________________\n",
      "output (Dense)               (None, 10)                1290      \n",
      "=================================================================\n",
      "Total params: 1,742,474\n",
      "Trainable params: 1,740,682\n",
      "Non-trainable params: 1,792\n",
      "_________________________________________________________________\n",
      "Train on 50000 samples, validate on 10000 samples\n",
      "Epoch 1/50\n",
      "50000/50000 [==============================] - 2s 37us/step - loss: 2.1838 - accuracy: 0.2747 - val_loss: 2.1614 - val_accuracy: 0.1807\n",
      "Epoch 2/50\n",
      "50000/50000 [==============================] - 1s 20us/step - loss: 1.7483 - accuracy: 0.3911 - val_loss: 2.0016 - val_accuracy: 0.2765\n",
      "Epoch 3/50\n",
      "50000/50000 [==============================] - 1s 20us/step - loss: 1.6252 - accuracy: 0.4325 - val_loss: 1.8340 - val_accuracy: 0.3628\n",
      "Epoch 4/50\n",
      "50000/50000 [==============================] - 1s 19us/step - loss: 1.5521 - accuracy: 0.4577 - val_loss: 1.7144 - val_accuracy: 0.4047\n",
      "Epoch 5/50\n",
      "50000/50000 [==============================] - 1s 19us/step - loss: 1.4978 - accuracy: 0.4752 - val_loss: 1.6459 - val_accuracy: 0.4235\n",
      "Epoch 6/50\n",
      "50000/50000 [==============================] - 1s 20us/step - loss: 1.4522 - accuracy: 0.4927 - val_loss: 1.5855 - val_accuracy: 0.4400\n",
      "Epoch 7/50\n",
      "50000/50000 [==============================] - 1s 20us/step - loss: 1.4121 - accuracy: 0.5084 - val_loss: 1.5511 - val_accuracy: 0.4536\n",
      "Epoch 8/50\n",
      "50000/50000 [==============================] - 1s 20us/step - loss: 1.3760 - accuracy: 0.5210 - val_loss: 1.5335 - val_accuracy: 0.4572\n",
      "Epoch 9/50\n",
      "50000/50000 [==============================] - 1s 20us/step - loss: 1.3447 - accuracy: 0.5323 - val_loss: 1.5073 - val_accuracy: 0.4680\n",
      "Epoch 10/50\n",
      "50000/50000 [==============================] - 1s 19us/step - loss: 1.3128 - accuracy: 0.5455 - val_loss: 1.4848 - val_accuracy: 0.4758\n",
      "Epoch 11/50\n",
      "50000/50000 [==============================] - 1s 19us/step - loss: 1.2843 - accuracy: 0.5545 - val_loss: 1.4807 - val_accuracy: 0.4783\n",
      "Epoch 12/50\n",
      "50000/50000 [==============================] - 1s 19us/step - loss: 1.2574 - accuracy: 0.5662 - val_loss: 1.4860 - val_accuracy: 0.4771\n",
      "Epoch 13/50\n",
      "50000/50000 [==============================] - 1s 19us/step - loss: 1.2312 - accuracy: 0.5739 - val_loss: 1.4632 - val_accuracy: 0.4825\n",
      "Epoch 14/50\n",
      "50000/50000 [==============================] - 1s 19us/step - loss: 1.2052 - accuracy: 0.5847 - val_loss: 1.4573 - val_accuracy: 0.4895\n",
      "Epoch 15/50\n",
      "50000/50000 [==============================] - 1s 19us/step - loss: 1.1810 - accuracy: 0.5930 - val_loss: 1.4655 - val_accuracy: 0.4822\n",
      "Epoch 16/50\n",
      "50000/50000 [==============================] - 1s 19us/step - loss: 1.1596 - accuracy: 0.6004 - val_loss: 1.4524 - val_accuracy: 0.4893\n",
      "Epoch 17/50\n",
      "50000/50000 [==============================] - 1s 19us/step - loss: 1.1361 - accuracy: 0.6084 - val_loss: 1.4570 - val_accuracy: 0.4860\n",
      "Epoch 18/50\n",
      "50000/50000 [==============================] - 1s 19us/step - loss: 1.1125 - accuracy: 0.6196 - val_loss: 1.4650 - val_accuracy: 0.4862\n",
      "Epoch 19/50\n",
      "50000/50000 [==============================] - 1s 19us/step - loss: 1.0898 - accuracy: 0.6279 - val_loss: 1.4720 - val_accuracy: 0.4899\n",
      "Epoch 20/50\n",
      "50000/50000 [==============================] - 1s 19us/step - loss: 1.0678 - accuracy: 0.6360 - val_loss: 1.4577 - val_accuracy: 0.4941\n",
      "Epoch 21/50\n",
      "50000/50000 [==============================] - 1s 19us/step - loss: 1.0472 - accuracy: 0.6444 - val_loss: 1.4535 - val_accuracy: 0.4959\n",
      "Epoch 22/50\n",
      "50000/50000 [==============================] - 1s 19us/step - loss: 1.0237 - accuracy: 0.6539 - val_loss: 1.4544 - val_accuracy: 0.4945\n",
      "Epoch 23/50\n",
      "50000/50000 [==============================] - 1s 19us/step - loss: 1.0046 - accuracy: 0.6609 - val_loss: 1.4608 - val_accuracy: 0.4967\n",
      "Epoch 24/50\n",
      "50000/50000 [==============================] - 1s 19us/step - loss: 0.9852 - accuracy: 0.6711 - val_loss: 1.4609 - val_accuracy: 0.4969\n",
      "Epoch 25/50\n",
      "50000/50000 [==============================] - 1s 19us/step - loss: 0.9632 - accuracy: 0.6765 - val_loss: 1.4589 - val_accuracy: 0.5002\n",
      "Epoch 26/50\n",
      "50000/50000 [==============================] - 1s 19us/step - loss: 0.9415 - accuracy: 0.6850 - val_loss: 1.4741 - val_accuracy: 0.4910\n",
      "Epoch 27/50\n",
      "50000/50000 [==============================] - 1s 19us/step - loss: 0.9222 - accuracy: 0.6939 - val_loss: 1.4582 - val_accuracy: 0.5001\n",
      "Epoch 28/50\n",
      "50000/50000 [==============================] - 1s 19us/step - loss: 0.8995 - accuracy: 0.7041 - val_loss: 1.4682 - val_accuracy: 0.4938\n",
      "Epoch 29/50\n",
      "50000/50000 [==============================] - 1s 19us/step - loss: 0.8802 - accuracy: 0.7097 - val_loss: 1.4771 - val_accuracy: 0.4945\n",
      "Epoch 30/50\n",
      "50000/50000 [==============================] - 1s 20us/step - loss: 0.8632 - accuracy: 0.7146 - val_loss: 1.4818 - val_accuracy: 0.4977\n",
      "Epoch 31/50\n",
      "50000/50000 [==============================] - 1s 19us/step - loss: 0.8415 - accuracy: 0.7267 - val_loss: 1.4924 - val_accuracy: 0.4981\n",
      "Epoch 32/50\n",
      "50000/50000 [==============================] - 1s 19us/step - loss: 0.8227 - accuracy: 0.7339 - val_loss: 1.4950 - val_accuracy: 0.4970\n",
      "Epoch 33/50\n",
      "50000/50000 [==============================] - 1s 19us/step - loss: 0.8022 - accuracy: 0.7397 - val_loss: 1.4943 - val_accuracy: 0.4998\n",
      "Epoch 34/50\n",
      "50000/50000 [==============================] - 1s 19us/step - loss: 0.7828 - accuracy: 0.7487 - val_loss: 1.5015 - val_accuracy: 0.4930\n",
      "Epoch 35/50\n",
      "50000/50000 [==============================] - 1s 19us/step - loss: 0.7649 - accuracy: 0.7549 - val_loss: 1.5071 - val_accuracy: 0.5000\n",
      "Epoch 00035: early stopping\n",
      "Model: \"model_2\"\n",
      "_________________________________________________________________\n",
      "Layer (type)                 Output Shape              Param #   \n",
      "=================================================================\n",
      "input_2 (InputLayer)         (None, 3072)              0         \n",
      "_________________________________________________________________\n",
      "hidden_layer1 (Dense)        (None, 512)               1573376   \n",
      "_________________________________________________________________\n",
      "batch_normalization_4 (Batch (None, 512)               2048      \n",
      "_________________________________________________________________\n",
      "hidden_layer2 (Dense)        (None, 256)               131328    \n",
      "_________________________________________________________________\n",
      "batch_normalization_5 (Batch (None, 256)               1024      \n",
      "_________________________________________________________________\n",
      "hidden_layer3 (Dense)        (None, 128)               32896     \n",
      "_________________________________________________________________\n",
      "batch_normalization_6 (Batch (None, 128)               512       \n",
      "_________________________________________________________________\n",
      "output (Dense)               (None, 10)                1290      \n",
      "=================================================================\n",
      "Total params: 1,742,474\n",
      "Trainable params: 1,740,682\n",
      "Non-trainable params: 1,792\n",
      "_________________________________________________________________\n",
      "Train on 50000 samples, validate on 10000 samples\n",
      "Epoch 1/50\n"
     ]
    },
    {
     "name": "stdout",
     "output_type": "stream",
     "text": [
      "50000/50000 [==============================] - 2s 30us/step - loss: 2.2449 - accuracy: 0.2633 - val_loss: 2.1071 - val_accuracy: 0.2058\n",
      "Epoch 2/50\n",
      "50000/50000 [==============================] - 1s 19us/step - loss: 1.7506 - accuracy: 0.3924 - val_loss: 1.9801 - val_accuracy: 0.2855\n",
      "Epoch 3/50\n",
      "50000/50000 [==============================] - 1s 19us/step - loss: 1.6266 - accuracy: 0.4319 - val_loss: 1.8335 - val_accuracy: 0.3595\n",
      "Epoch 4/50\n",
      "50000/50000 [==============================] - 1s 19us/step - loss: 1.5517 - accuracy: 0.4602 - val_loss: 1.7291 - val_accuracy: 0.3999\n",
      "Epoch 5/50\n",
      "50000/50000 [==============================] - 1s 19us/step - loss: 1.4957 - accuracy: 0.4763 - val_loss: 1.6530 - val_accuracy: 0.4261\n",
      "Epoch 6/50\n",
      "50000/50000 [==============================] - 1s 18us/step - loss: 1.4537 - accuracy: 0.4913 - val_loss: 1.5838 - val_accuracy: 0.4529\n",
      "Epoch 7/50\n",
      "50000/50000 [==============================] - 1s 19us/step - loss: 1.4157 - accuracy: 0.5066 - val_loss: 1.5662 - val_accuracy: 0.4492\n",
      "Epoch 8/50\n",
      "50000/50000 [==============================] - 1s 19us/step - loss: 1.3801 - accuracy: 0.5187 - val_loss: 1.5325 - val_accuracy: 0.4617\n",
      "Epoch 9/50\n",
      "50000/50000 [==============================] - 1s 19us/step - loss: 1.3501 - accuracy: 0.5300 - val_loss: 1.5121 - val_accuracy: 0.4677\n",
      "Epoch 10/50\n",
      "50000/50000 [==============================] - 1s 19us/step - loss: 1.3205 - accuracy: 0.5399 - val_loss: 1.4956 - val_accuracy: 0.4739\n",
      "Epoch 11/50\n",
      "50000/50000 [==============================] - 1s 19us/step - loss: 1.2952 - accuracy: 0.5499 - val_loss: 1.4916 - val_accuracy: 0.4788\n",
      "Epoch 12/50\n",
      "50000/50000 [==============================] - 1s 19us/step - loss: 1.2655 - accuracy: 0.5605 - val_loss: 1.4851 - val_accuracy: 0.4824\n",
      "Epoch 13/50\n",
      "50000/50000 [==============================] - 1s 18us/step - loss: 1.2417 - accuracy: 0.5699 - val_loss: 1.4760 - val_accuracy: 0.4819\n",
      "Epoch 14/50\n",
      "50000/50000 [==============================] - 1s 19us/step - loss: 1.2170 - accuracy: 0.5814 - val_loss: 1.4713 - val_accuracy: 0.4827\n",
      "Epoch 15/50\n",
      "50000/50000 [==============================] - 1s 19us/step - loss: 1.1900 - accuracy: 0.5901 - val_loss: 1.4697 - val_accuracy: 0.4905\n",
      "Epoch 16/50\n",
      "50000/50000 [==============================] - 1s 19us/step - loss: 1.1682 - accuracy: 0.5979 - val_loss: 1.4717 - val_accuracy: 0.4833\n",
      "Epoch 17/50\n",
      "50000/50000 [==============================] - 1s 19us/step - loss: 1.1463 - accuracy: 0.6059 - val_loss: 1.4605 - val_accuracy: 0.4884\n",
      "Epoch 18/50\n",
      "50000/50000 [==============================] - 1s 19us/step - loss: 1.1236 - accuracy: 0.6142 - val_loss: 1.4534 - val_accuracy: 0.4923\n",
      "Epoch 19/50\n",
      "50000/50000 [==============================] - 1s 19us/step - loss: 1.1000 - accuracy: 0.6212 - val_loss: 1.4522 - val_accuracy: 0.4961\n",
      "Epoch 20/50\n",
      "50000/50000 [==============================] - 1s 19us/step - loss: 1.0797 - accuracy: 0.6299 - val_loss: 1.4553 - val_accuracy: 0.4959\n",
      "Epoch 21/50\n",
      "50000/50000 [==============================] - 1s 19us/step - loss: 1.0584 - accuracy: 0.6389 - val_loss: 1.4570 - val_accuracy: 0.4927\n",
      "Epoch 22/50\n",
      "50000/50000 [==============================] - 1s 19us/step - loss: 1.0402 - accuracy: 0.6456 - val_loss: 1.4624 - val_accuracy: 0.4927\n",
      "Epoch 23/50\n",
      "50000/50000 [==============================] - 1s 19us/step - loss: 1.0162 - accuracy: 0.6553 - val_loss: 1.4604 - val_accuracy: 0.4939\n",
      "Epoch 24/50\n",
      "50000/50000 [==============================] - 1s 19us/step - loss: 0.9968 - accuracy: 0.6627 - val_loss: 1.4568 - val_accuracy: 0.4992\n",
      "Epoch 25/50\n",
      "50000/50000 [==============================] - 1s 19us/step - loss: 0.9746 - accuracy: 0.6714 - val_loss: 1.4704 - val_accuracy: 0.4965\n",
      "Epoch 26/50\n",
      "50000/50000 [==============================] - 1s 19us/step - loss: 0.9512 - accuracy: 0.6808 - val_loss: 1.4810 - val_accuracy: 0.4943\n",
      "Epoch 27/50\n",
      "50000/50000 [==============================] - 1s 19us/step - loss: 0.9321 - accuracy: 0.6876 - val_loss: 1.4632 - val_accuracy: 0.4959\n",
      "Epoch 28/50\n",
      "50000/50000 [==============================] - 1s 19us/step - loss: 0.9112 - accuracy: 0.6954 - val_loss: 1.4652 - val_accuracy: 0.5012\n",
      "Epoch 29/50\n",
      "50000/50000 [==============================] - 1s 19us/step - loss: 0.8915 - accuracy: 0.7024 - val_loss: 1.4593 - val_accuracy: 0.5000\n",
      "Epoch 30/50\n",
      "50000/50000 [==============================] - 1s 19us/step - loss: 0.8729 - accuracy: 0.7109 - val_loss: 1.4785 - val_accuracy: 0.4927\n",
      "Epoch 31/50\n",
      "50000/50000 [==============================] - 1s 19us/step - loss: 0.8536 - accuracy: 0.7169 - val_loss: 1.4790 - val_accuracy: 0.5001\n",
      "Epoch 32/50\n",
      "50000/50000 [==============================] - 1s 19us/step - loss: 0.8329 - accuracy: 0.7263 - val_loss: 1.4972 - val_accuracy: 0.4979\n",
      "Epoch 33/50\n",
      "50000/50000 [==============================] - 1s 19us/step - loss: 0.8134 - accuracy: 0.7346 - val_loss: 1.5047 - val_accuracy: 0.4951\n",
      "Epoch 34/50\n",
      "50000/50000 [==============================] - 1s 19us/step - loss: 0.7964 - accuracy: 0.7397 - val_loss: 1.4994 - val_accuracy: 0.4986\n",
      "Epoch 35/50\n",
      "50000/50000 [==============================] - 1s 19us/step - loss: 0.7767 - accuracy: 0.7483 - val_loss: 1.5157 - val_accuracy: 0.4947\n",
      "Epoch 36/50\n",
      "50000/50000 [==============================] - 1s 19us/step - loss: 0.7565 - accuracy: 0.7567 - val_loss: 1.5264 - val_accuracy: 0.4901\n",
      "Epoch 37/50\n",
      "50000/50000 [==============================] - 1s 19us/step - loss: 0.7374 - accuracy: 0.7623 - val_loss: 1.5221 - val_accuracy: 0.4978\n",
      "Epoch 38/50\n",
      "50000/50000 [==============================] - 1s 19us/step - loss: 0.7205 - accuracy: 0.7709 - val_loss: 1.5496 - val_accuracy: 0.4930\n",
      "Epoch 39/50\n",
      "50000/50000 [==============================] - 1s 19us/step - loss: 0.7034 - accuracy: 0.7760 - val_loss: 1.5355 - val_accuracy: 0.4986\n",
      "Epoch 40/50\n",
      "50000/50000 [==============================] - 1s 18us/step - loss: 0.6825 - accuracy: 0.7856 - val_loss: 1.5703 - val_accuracy: 0.4864\n",
      "Epoch 41/50\n",
      "50000/50000 [==============================] - 1s 19us/step - loss: 0.6662 - accuracy: 0.7914 - val_loss: 1.5672 - val_accuracy: 0.4945\n",
      "Epoch 42/50\n",
      "50000/50000 [==============================] - 1s 19us/step - loss: 0.6482 - accuracy: 0.7991 - val_loss: 1.5678 - val_accuracy: 0.4926\n",
      "Epoch 43/50\n",
      "50000/50000 [==============================] - 1s 19us/step - loss: 0.6288 - accuracy: 0.8074 - val_loss: 1.5861 - val_accuracy: 0.4890\n",
      "Epoch 44/50\n",
      "50000/50000 [==============================] - 1s 19us/step - loss: 0.6107 - accuracy: 0.8136 - val_loss: 1.5811 - val_accuracy: 0.4941\n",
      "Epoch 45/50\n",
      "50000/50000 [==============================] - 1s 19us/step - loss: 0.5930 - accuracy: 0.8221 - val_loss: 1.6320 - val_accuracy: 0.4917\n",
      "Epoch 46/50\n",
      "50000/50000 [==============================] - 1s 19us/step - loss: 0.5772 - accuracy: 0.8278 - val_loss: 1.6249 - val_accuracy: 0.4925\n",
      "Epoch 47/50\n",
      "50000/50000 [==============================] - 1s 19us/step - loss: 0.5609 - accuracy: 0.8341 - val_loss: 1.6138 - val_accuracy: 0.4913\n",
      "Epoch 48/50\n",
      "50000/50000 [==============================] - 1s 19us/step - loss: 0.5430 - accuracy: 0.8422 - val_loss: 1.6395 - val_accuracy: 0.4908\n",
      "Epoch 49/50\n",
      "50000/50000 [==============================] - 1s 19us/step - loss: 0.5267 - accuracy: 0.8473 - val_loss: 1.6608 - val_accuracy: 0.4936\n",
      "Epoch 50/50\n",
      "50000/50000 [==============================] - 1s 19us/step - loss: 0.5109 - accuracy: 0.8524 - val_loss: 1.6831 - val_accuracy: 0.4888\n"
     ]
    }
   ],
   "source": [
    "results = {}\n",
    "\"\"\"Code Here\n",
    "撰寫你的訓練流程並將結果用 dictionary 紀錄\n",
    "\"\"\"\n",
    "\n",
    "for p in PATIENCE:\n",
    "    earlystop = EarlyStopping(monitor=MONITOR, patience=p, verbose=1)\n",
    "    model = build_mlp(input_shape=x_train.shape[1:])\n",
    "    model.summary()\n",
    "\n",
    "    optimizer = keras.optimizers.SGD(lr=LEARNING_RATE, nesterov=True, momentum=MOMENTUM)\n",
    "    model.compile(loss=\"categorical_crossentropy\", metrics=[\"accuracy\"], optimizer=optimizer)\n",
    "    model.fit(x_train, y_train, \n",
    "              epochs=EPOCHS, \n",
    "              batch_size=BATCH_SIZE, \n",
    "              validation_data=(x_test, y_test), \n",
    "              callbacks=[earlystop])\n",
    "    \n",
    "    results[p] = {'train-loss': model.history.history[\"loss\"], \n",
    "                'valid-loss': model.history.history[\"val_loss\"], \n",
    "                'train-acc': model.history.history[\"accuracy\"], \n",
    "                'valid-acc': model.history.history[\"val_accuracy\"]}"
   ]
  },
  {
   "cell_type": "code",
   "execution_count": 11,
   "metadata": {},
   "outputs": [],
   "source": [
    "# Collect results\n",
    "train_loss = model.history.history[\"loss\"]\n",
    "valid_loss = model.history.history[\"val_loss\"]\n",
    "train_acc = model.history.history[\"accuracy\"]\n",
    "valid_acc = model.history.history[\"val_accuracy\"]"
   ]
  },
  {
   "cell_type": "code",
   "execution_count": 12,
   "metadata": {},
   "outputs": [
    {
     "data": {
      "image/png": "[encoded data removed]",
      "text/plain": [
       "<Figure size 864x648 with 1 Axes>"
      ]
     },
     "metadata": {
      "needs_background": "light"
     },
     "output_type": "display_data"
    },
    {
     "data": {
      "image/png": "[encoded data removed]",
      "text/plain": [
       "<Figure size 576x432 with 1 Axes>"
      ]
     },
     "metadata": {
      "needs_background": "light"
     },
     "output_type": "display_data"
    }
   ],
   "source": [
    "import matplotlib.pyplot as plt\n",
    "%matplotlib inline\n",
    "\"\"\"Code Here\n",
    "將結果繪出\n",
    "\"\"\"\n",
    "\n",
    "plt.figure(figsize=(12,9))\n",
    "for i, cond in enumerate(results.keys()):\n",
    "    plt.plot(range(len(results[cond]['train-loss'])),results[cond]['train-loss'], '-', label=cond)\n",
    "    plt.plot(range(len(results[cond]['valid-loss'])),results[cond]['valid-loss'], '--', label=cond)\n",
    "plt.title(\"Loss\")\n",
    "plt.legend(loc='center left', bbox_to_anchor=(1, 0.5))\n",
    "plt.show()\n",
    "\n",
    "plt.figure(figsize=(8,6))\n",
    "for i, cond in enumerate(results.keys()):\n",
    "    plt.plot(range(len(results[cond]['train-acc'])),results[cond]['train-acc'], '-', label=cond)\n",
    "    plt.plot(range(len(results[cond]['valid-acc'])),results[cond]['valid-acc'], '--', label=cond)\n",
    "plt.title(\"Accuracy\")\n",
    "plt.legend(loc='center left', bbox_to_anchor=(1, 0.5))\n",
    "plt.show()"
   ]
  },
  {
   "cell_type": "code",
   "execution_count": null,
   "metadata": {},
   "outputs": [],
   "source": []
  }
 ],
 "metadata": {
  "kernelspec": {
   "display_name": "Python 3",
   "language": "python",
   "name": "python3"
  },
  "language_info": {
   "codemirror_mode": {
    "name": "ipython",
    "version": 3
   },
   "file_extension": ".py",
   "mimetype": "text/x-python",
   "name": "python",
   "nbconvert_exporter": "python",
   "pygments_lexer": "ipython3",
   "version": "3.7.3"
  }
 },
 "nbformat": 4,
 "nbformat_minor": 2
}
